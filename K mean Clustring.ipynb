{
 "cells": [
  {
   "cell_type": "markdown",
   "id": "8f2e5d80",
   "metadata": {},
   "source": [
    "# Loading Data\n",
    "### DataSet link: https://docs.google.com/spreadsheets/d/1AhDUFItDC3LPah6M-QDpefe8EpM-zG_T2bf5wMT3yos/edit#gid=0"
   ]
  },
  {
   "cell_type": "code",
   "execution_count": 3,
   "id": "a2c653ed",
   "metadata": {},
   "outputs": [],
   "source": [
    "import pandas as pd\n",
    "\n",
    "#data = pd.read_csv('D:\\DataSet - Sheet1.csv')\n",
    "#data.head()\n",
    "#data.info()\n",
    "#data"
   ]
  },
  {
   "cell_type": "markdown",
   "id": "0355cbb1",
   "metadata": {},
   "source": [
    "# TF-IDF (Feature Extraction)\n",
    "### Source of tf-idf: https://medium.com/@cmukesh8688/tf-idf-vectorizer-scikit-learn-dbc0244a911a"
   ]
  },
  {
   "cell_type": "code",
   "execution_count": 4,
   "id": "0d875991",
   "metadata": {},
   "outputs": [],
   "source": [
    "from sklearn.feature_extraction.text import TfidfVectorizer\n",
    "#unicode\n",
    "#documents = data['Content'].values.astype(\"U\")\n",
    "\n",
    "#vectorizer = TfidfVectorizer(stop_words='english')\n",
    "#features = vectorizer.fit_transform(documents)"
   ]
  },
  {
   "cell_type": "markdown",
   "id": "b9fd17cf",
   "metadata": {},
   "source": [
    "# Clustering\n",
    "### Source of clustering: https://www.youtube.com/watch?v=ORpDAUQUnkU"
   ]
  },
  {
   "cell_type": "code",
   "execution_count": 5,
   "id": "da11179c",
   "metadata": {},
   "outputs": [],
   "source": [
    "from sklearn.cluster import KMeans\n",
    "#model = KMeans(n_clusters=2, init = 'k-means++', max_iter = 10, n_init = 1)\n",
    "#model.fit(features)\n",
    "\n",
    "#data['Cluster'] = model.labels_\n",
    "#data"
   ]
  },
  {
   "cell_type": "markdown",
   "id": "06a4b519",
   "metadata": {},
   "source": [
    "# Printing top 10 features of the clusters"
   ]
  },
  {
   "cell_type": "code",
   "execution_count": 6,
   "id": "9509f402",
   "metadata": {},
   "outputs": [],
   "source": [
    "#print(\"Cluster Centraoids: \\n\")\n",
    "#order_centroids = model.cluster_centers_.argsort()[:, ::-1]\n",
    "#terms = vectorizer.get_feature_names()\n",
    "\n",
    "#for i in range(2):\n",
    "    #print(\"Cluster %d:\" % i)\n",
    "    #for j in order_centroids[i, :10]:\n",
    "     #   print(' %s' % terms[j])\n",
    "    #print('-------------')"
   ]
  },
  {
   "cell_type": "markdown",
   "id": "ec3f3564",
   "metadata": {},
   "source": [
    "# Pie chart of the result"
   ]
  },
  {
   "cell_type": "code",
   "execution_count": 8,
   "id": "4a851305",
   "metadata": {},
   "outputs": [
    {
     "data": {
      "image/png": "[encoded data removed]",
      "text/plain": [
       "<Figure size 432x288 with 1 Axes>"
      ]
     },
     "metadata": {},
     "output_type": "display_data"
    }
   ],
   "source": [
    "%matplotlib inline\n",
    "import matplotlib.pyplot as plt\n",
    "\n",
    "exp_vals = [1,3,1]\n",
    "exp_labels = [\"Cluster 0\",\"Cluster 1\",\"Cluster\"]\n",
    "\n",
    "plt.pie(exp_vals,labels=exp_labels, shadow=True)\n",
    "plt.axis(\"equal\")\n",
    "plt.show()"
   ]
  },
  {
   "cell_type": "code",
   "execution_count": null,
   "id": "38e9b4ec",
   "metadata": {},
   "outputs": [],
   "source": []
  }
 ],
 "metadata": {
  "kernelspec": {
   "display_name": "Python 3 (ipykernel)",
   "language": "python",
   "name": "python3"
  },
  "language_info": {
   "codemirror_mode": {
    "name": "ipython",
    "version": 3
   },
   "file_extension": ".py",
   "mimetype": "text/x-python",
   "name": "python",
   "nbconvert_exporter": "python",
   "pygments_lexer": "ipython3",
   "version": "3.9.7"
  }
 },
 "nbformat": 4,
 "nbformat_minor": 5
}
