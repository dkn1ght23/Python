{
 "cells": [
  {
   "cell_type": "markdown",
   "id": "56f6765e",
   "metadata": {},
   "source": [
    "## Import Pakages"
   ]
  },
  {
   "cell_type": "code",
   "execution_count": 1,
   "id": "9a3a733e",
   "metadata": {},
   "outputs": [
    {
     "name": "stderr",
     "output_type": "stream",
     "text": [
      "[nltk_data] Downloading package punkt to\n",
      "[nltk_data]     C:\\Users\\DK23\\AppData\\Roaming\\nltk_data...\n",
      "[nltk_data]   Package punkt is already up-to-date!\n"
     ]
    }
   ],
   "source": [
    "import pandas as pd\n",
    "import numpy as np\n",
    "\n",
    "import re\n",
    "import nltk\n",
    "nltk.download('punkt')\n",
    "import string\n",
    "from nltk.tokenize import word_tokenize\n",
    "from nltk.corpus import stopwords\n",
    "from nltk.stem.porter import PorterStemmer"
   ]
  },
  {
   "cell_type": "markdown",
   "id": "8556aa57",
   "metadata": {},
   "source": [
    "## Loading data"
   ]
  },
  {
   "cell_type": "code",
   "execution_count": 21,
   "id": "64154001",
   "metadata": {},
   "outputs": [],
   "source": [
    "data = pd.read_csv('E:\\\\NLP\\\\Data\\\\DataSet.csv')\n",
    "#data\n",
    "#data.info()"
   ]
  },
  {
   "cell_type": "code",
   "execution_count": 22,
   "id": "bf72c9cb",
   "metadata": {},
   "outputs": [],
   "source": [
    "data = data.drop(columns=['ID'])"
   ]
  },
  {
   "cell_type": "code",
   "execution_count": 23,
   "id": "977be34f",
   "metadata": {},
   "outputs": [
    {
     "data": {
      "text/html": [
       "<div>\n",
       "<style scoped>\n",
       "    .dataframe tbody tr th:only-of-type {\n",
       "        vertical-align: middle;\n",
       "    }\n",
       "\n",
       "    .dataframe tbody tr th {\n",
       "        vertical-align: top;\n",
       "    }\n",
       "\n",
       "    .dataframe thead th {\n",
       "        text-align: right;\n",
       "    }\n",
       "</style>\n",
       "<table border=\"1\" class=\"dataframe\">\n",
       "  <thead>\n",
       "    <tr style=\"text-align: right;\">\n",
       "      <th></th>\n",
       "      <th>Title</th>\n",
       "      <th>Content</th>\n",
       "    </tr>\n",
       "  </thead>\n",
       "  <tbody>\n",
       "    <tr>\n",
       "      <th>0</th>\n",
       "      <td>Punishment for crimes committed by substance s...</td>\n",
       "      <td>if any person kills or attempts to cause the d...</td>\n",
       "    </tr>\n",
       "    <tr>\n",
       "      <th>1</th>\n",
       "      <td>Punishment for abduction of women and children</td>\n",
       "      <td>If any person 1 [ Human Trafficking Prevention...</td>\n",
       "    </tr>\n",
       "    <tr>\n",
       "      <th>2</th>\n",
       "      <td>Punishment for ransom</td>\n",
       "      <td>If a person detains a woman or a child for ran...</td>\n",
       "    </tr>\n",
       "    <tr>\n",
       "      <th>3</th>\n",
       "      <td>Punishment for rapem death due to rape</td>\n",
       "      <td>If a man rapes a woman or a child, he shall be...</td>\n",
       "    </tr>\n",
       "    <tr>\n",
       "      <th>4</th>\n",
       "      <td>Punishment for inciting women to commit suicide</td>\n",
       "      <td>If a woman commits suicide without the consent...</td>\n",
       "    </tr>\n",
       "    <tr>\n",
       "      <th>...</th>\n",
       "      <td>...</td>\n",
       "      <td>...</td>\n",
       "    </tr>\n",
       "    <tr>\n",
       "      <th>195</th>\n",
       "      <td>Adulteration of food or drink intended for sale</td>\n",
       "      <td>Whoever adulterates any article of food or dri...</td>\n",
       "    </tr>\n",
       "    <tr>\n",
       "      <th>196</th>\n",
       "      <td>Punishment for theft</td>\n",
       "      <td>Whoever commits theft shall be punished with i...</td>\n",
       "    </tr>\n",
       "    <tr>\n",
       "      <th>197</th>\n",
       "      <td>Theft in dwelling-house, etc.</td>\n",
       "      <td>Whoever commits theft in any building, tent or...</td>\n",
       "    </tr>\n",
       "    <tr>\n",
       "      <th>198</th>\n",
       "      <td>Theft after preparation made for causing death...</td>\n",
       "      <td>Whoever commits theft, having made preparation...</td>\n",
       "    </tr>\n",
       "    <tr>\n",
       "      <th>199</th>\n",
       "      <td>Theft by clerk or servant of property in posse...</td>\n",
       "      <td>Whoever being a clerk or servant, or being emp...</td>\n",
       "    </tr>\n",
       "  </tbody>\n",
       "</table>\n",
       "<p>200 rows × 2 columns</p>\n",
       "</div>"
      ],
      "text/plain": [
       "                                                 Title  \\\n",
       "0    Punishment for crimes committed by substance s...   \n",
       "1       Punishment for abduction of women and children   \n",
       "2                                Punishment for ransom   \n",
       "3              Punishment for rapem death due to rape    \n",
       "4      Punishment for inciting women to commit suicide   \n",
       "..                                                 ...   \n",
       "195    Adulteration of food or drink intended for sale   \n",
       "196                              Punishment for theft    \n",
       "197                     Theft in dwelling-house, etc.    \n",
       "198  Theft after preparation made for causing death...   \n",
       "199  Theft by clerk or servant of property in posse...   \n",
       "\n",
       "                                               Content  \n",
       "0    if any person kills or attempts to cause the d...  \n",
       "1    If any person 1 [ Human Trafficking Prevention...  \n",
       "2    If a person detains a woman or a child for ran...  \n",
       "3    If a man rapes a woman or a child, he shall be...  \n",
       "4    If a woman commits suicide without the consent...  \n",
       "..                                                 ...  \n",
       "195  Whoever adulterates any article of food or dri...  \n",
       "196  Whoever commits theft shall be punished with i...  \n",
       "197  Whoever commits theft in any building, tent or...  \n",
       "198  Whoever commits theft, having made preparation...  \n",
       "199  Whoever being a clerk or servant, or being emp...  \n",
       "\n",
       "[200 rows x 2 columns]"
      ]
     },
     "execution_count": 23,
     "metadata": {},
     "output_type": "execute_result"
    }
   ],
   "source": [
    "data"
   ]
  },
  {
   "cell_type": "code",
   "execution_count": 24,
   "id": "c8c970cc",
   "metadata": {},
   "outputs": [
    {
     "name": "stdout",
     "output_type": "stream",
     "text": [
      "<class 'pandas.core.frame.DataFrame'>\n",
      "RangeIndex: 200 entries, 0 to 199\n",
      "Data columns (total 2 columns):\n",
      " #   Column   Non-Null Count  Dtype \n",
      "---  ------   --------------  ----- \n",
      " 0   Title    200 non-null    object\n",
      " 1   Content  200 non-null    object\n",
      "dtypes: object(2)\n",
      "memory usage: 3.2+ KB\n"
     ]
    }
   ],
   "source": [
    "data.info()"
   ]
  },
  {
   "cell_type": "code",
   "execution_count": 25,
   "id": "ae14a10e",
   "metadata": {},
   "outputs": [
    {
     "data": {
      "text/plain": [
       "'Punishment for abduction of women and children'"
      ]
     },
     "execution_count": 25,
     "metadata": {},
     "output_type": "execute_result"
    }
   ],
   "source": [
    "data['Title'][1]"
   ]
  },
  {
   "cell_type": "code",
   "execution_count": 26,
   "id": "8a672a64",
   "metadata": {},
   "outputs": [
    {
     "data": {
      "text/plain": [
       "'If any person 1 [ Human Trafficking Prevention and Suppression Act, 01 (01 Act No.3 Act), Section 3 and 6 of the above-mentioned] No offense purpose other than for the purpose of any woman or child abduction, and such a person to life imprisonment or Shall be punishable with imprisonment for a term not exceeding fourteen years and with an additional fine thereof.'"
      ]
     },
     "execution_count": 26,
     "metadata": {},
     "output_type": "execute_result"
    }
   ],
   "source": [
    "data['Content'][1]"
   ]
  },
  {
   "cell_type": "markdown",
   "id": "fa6a671f",
   "metadata": {},
   "source": [
    "## Function for cleaning Content"
   ]
  },
  {
   "cell_type": "code",
   "execution_count": 4,
   "id": "514d4975",
   "metadata": {},
   "outputs": [],
   "source": [
    "def clean_content(df):\n",
    "    clean_data = list()\n",
    "    lines = df[\"Content\"].values.tolist()\n",
    "    for text in lines:\n",
    "        text = text.lower()\n",
    "        \n",
    "        pattern = re.compile('http[s]?://(?:[a-zA-Z]|[0-9]|[$-_@.&+]|[!*\\(\\),]|(?:%[0-9a-fA-F][0-9a-fA-F]))+')\n",
    "        text = pattern.sub('', text)\n",
    "        text = re.sub(r\"i'm\", \"i am\", text)\n",
    "        text = re.sub(r\"he's\", \"he is\", text)\n",
    "        text = re.sub(r\"she's\", \"she is\", text)\n",
    "        text = re.sub(r\"that's\", \"that is\", text)        \n",
    "        text = re.sub(r\"what's\", \"what is\", text)\n",
    "        text = re.sub(r\"where's\", \"where is\", text) \n",
    "        text = re.sub(r\"\\'ll\", \" will\", text)  \n",
    "        text = re.sub(r\"\\'ve\", \" have\", text)  \n",
    "        text = re.sub(r\"\\'re\", \" are\", text)\n",
    "        text = re.sub(r\"\\'d\", \" would\", text)\n",
    "        text = re.sub(r\"\\'ve\", \" have\", text)\n",
    "        text = re.sub(r\"won't\", \"will not\", text)\n",
    "        text = re.sub(r\"don't\", \"do not\", text)\n",
    "        text = re.sub(r\"did't\", \"did not\", text)\n",
    "        text = re.sub(r\"can't\", \"can not\", text)\n",
    "        text = re.sub(r\"it's\", \"it is\", text)\n",
    "        text = re.sub(r\"couldn't\", \"could not\", text)\n",
    "        text = re.sub(r\"have't\", \"have not\", text)\n",
    "        \n",
    "        text = re.sub(r\"[,.\\\"!@#$%^&*(){}?/;`~:<>+=-]\", \"\", text)\n",
    "        tokens = word_tokenize(text)\n",
    "        table = str.maketrans('', '', string.punctuation)\n",
    "        stripped = [w.translate(table) for w in tokens]\n",
    "        words = [word for word in stripped if word.isalpha()]\n",
    "        stop_words = set(stopwords.words(\"english\"))\n",
    "        stop_words.discard(\"not\")\n",
    "        words = [w for w in words if not w in stop_words]\n",
    "        words = ' '.join(words)\n",
    "        clean_data.append(words)\n",
    "    return clean_data"
   ]
  },
  {
   "cell_type": "markdown",
   "id": "295b5693",
   "metadata": {},
   "source": [
    "## Cleaning Tittle"
   ]
  },
  {
   "cell_type": "code",
   "execution_count": 5,
   "id": "c49e28a6",
   "metadata": {},
   "outputs": [],
   "source": [
    "def clean_title(df):\n",
    "    clean_data = list()\n",
    "    lines = df[\"Title\"].values.tolist()\n",
    "    for text in lines:\n",
    "        text = text.lower()\n",
    "        \n",
    "        pattern = re.compile('http[s]?://(?:[a-zA-Z]|[0-9]|[$-_@.&+]|[!*\\(\\),]|(?:%[0-9a-fA-F][0-9a-fA-F]))+')\n",
    "        text = pattern.sub('', text)\n",
    "        text = re.sub(r\"i'm\", \"i am\", text)\n",
    "        text = re.sub(r\"he's\", \"he is\", text)\n",
    "        text = re.sub(r\"she's\", \"she is\", text)\n",
    "        text = re.sub(r\"that's\", \"that is\", text)        \n",
    "        text = re.sub(r\"what's\", \"what is\", text)\n",
    "        text = re.sub(r\"where's\", \"where is\", text) \n",
    "        text = re.sub(r\"\\'ll\", \" will\", text)  \n",
    "        text = re.sub(r\"\\'ve\", \" have\", text)  \n",
    "        text = re.sub(r\"\\'re\", \" are\", text)\n",
    "        text = re.sub(r\"\\'d\", \" would\", text)\n",
    "        text = re.sub(r\"\\'ve\", \" have\", text)\n",
    "        text = re.sub(r\"won't\", \"will not\", text)\n",
    "        text = re.sub(r\"don't\", \"do not\", text)\n",
    "        text = re.sub(r\"did't\", \"did not\", text)\n",
    "        text = re.sub(r\"can't\", \"can not\", text)\n",
    "        text = re.sub(r\"it's\", \"it is\", text)\n",
    "        text = re.sub(r\"couldn't\", \"could not\", text)\n",
    "        text = re.sub(r\"have't\", \"have not\", text)\n",
    "        \n",
    "        text = re.sub(r\"[,.\\\"!@#$%^&*(){}?/;`~:<>+=-]\", \"\", text)\n",
    "        tokens = word_tokenize(text)\n",
    "        table = str.maketrans('', '', string.punctuation)\n",
    "        stripped = [w.translate(table) for w in tokens]\n",
    "        words = [word for word in stripped if word.isalpha()]\n",
    "        stop_words = set(stopwords.words(\"english\"))\n",
    "        stop_words.discard(\"not\")\n",
    "        words = [w for w in words if not w in stop_words]\n",
    "        words = ' '.join(words)\n",
    "        clean_data.append(words)\n",
    "    return clean_data"
   ]
  },
  {
   "cell_type": "code",
   "execution_count": 11,
   "id": "f559dccb",
   "metadata": {},
   "outputs": [
    {
     "data": {
      "text/plain": [
       "['punishment crimes committed substance susch combustores',\n",
       " 'punishment abduction wimen children',\n",
       " 'punishment ransom',\n",
       " 'punishment rapem death due rape',\n",
       " 'punishment inciting women commit suicide']"
      ]
     },
     "execution_count": 11,
     "metadata": {},
     "output_type": "execute_result"
    }
   ],
   "source": [
    "clr_content = clean_content(data)\n",
    "clr_title = clean_title(data)\n",
    "\n",
    "#clr_content[0:20]\n",
    "clr_title[0:5]"
   ]
  },
  {
   "cell_type": "markdown",
   "id": "04902bd9",
   "metadata": {},
   "source": [
    "## List of data to DataFrame"
   ]
  },
  {
   "cell_type": "code",
   "execution_count": 12,
   "id": "4a9c4b09",
   "metadata": {},
   "outputs": [],
   "source": [
    "final_data=pd.DataFrame(clr_title,\n",
    "             columns=['Title']) \n",
    "#final_data['Title'][0]"
   ]
  },
  {
   "cell_type": "code",
   "execution_count": 13,
   "id": "1373242f",
   "metadata": {},
   "outputs": [],
   "source": [
    "final_data.to_csv('Final_Data.csv')"
   ]
  },
  {
   "cell_type": "code",
   "execution_count": 15,
   "id": "6cd6d809",
   "metadata": {},
   "outputs": [
    {
     "data": {
      "text/html": [
       "<div>\n",
       "<style scoped>\n",
       "    .dataframe tbody tr th:only-of-type {\n",
       "        vertical-align: middle;\n",
       "    }\n",
       "\n",
       "    .dataframe tbody tr th {\n",
       "        vertical-align: top;\n",
       "    }\n",
       "\n",
       "    .dataframe thead th {\n",
       "        text-align: right;\n",
       "    }\n",
       "</style>\n",
       "<table border=\"1\" class=\"dataframe\">\n",
       "  <thead>\n",
       "    <tr style=\"text-align: right;\">\n",
       "      <th></th>\n",
       "      <th>Title</th>\n",
       "    </tr>\n",
       "  </thead>\n",
       "  <tbody>\n",
       "    <tr>\n",
       "      <th>0</th>\n",
       "      <td>punishment crimes committed substance susch co...</td>\n",
       "    </tr>\n",
       "    <tr>\n",
       "      <th>1</th>\n",
       "      <td>punishment abduction wimen children</td>\n",
       "    </tr>\n",
       "    <tr>\n",
       "      <th>2</th>\n",
       "      <td>punishment ransom</td>\n",
       "    </tr>\n",
       "    <tr>\n",
       "      <th>3</th>\n",
       "      <td>punishment rapem death due rape</td>\n",
       "    </tr>\n",
       "    <tr>\n",
       "      <th>4</th>\n",
       "      <td>punishment inciting women commit suicide</td>\n",
       "    </tr>\n",
       "    <tr>\n",
       "      <th>...</th>\n",
       "      <td>...</td>\n",
       "    </tr>\n",
       "    <tr>\n",
       "      <th>195</th>\n",
       "      <td>adulteration food drink intended sale</td>\n",
       "    </tr>\n",
       "    <tr>\n",
       "      <th>196</th>\n",
       "      <td>punishment theft</td>\n",
       "    </tr>\n",
       "    <tr>\n",
       "      <th>197</th>\n",
       "      <td>theft dwellinghouse etc</td>\n",
       "    </tr>\n",
       "    <tr>\n",
       "      <th>198</th>\n",
       "      <td>theft preparation made causing death hurt rest...</td>\n",
       "    </tr>\n",
       "    <tr>\n",
       "      <th>199</th>\n",
       "      <td>theft clerk servant property possession master</td>\n",
       "    </tr>\n",
       "  </tbody>\n",
       "</table>\n",
       "<p>200 rows × 1 columns</p>\n",
       "</div>"
      ],
      "text/plain": [
       "                                                 Title\n",
       "0    punishment crimes committed substance susch co...\n",
       "1                  punishment abduction wimen children\n",
       "2                                    punishment ransom\n",
       "3                      punishment rapem death due rape\n",
       "4             punishment inciting women commit suicide\n",
       "..                                                 ...\n",
       "195              adulteration food drink intended sale\n",
       "196                                   punishment theft\n",
       "197                            theft dwellinghouse etc\n",
       "198  theft preparation made causing death hurt rest...\n",
       "199     theft clerk servant property possession master\n",
       "\n",
       "[200 rows x 1 columns]"
      ]
     },
     "execution_count": 15,
     "metadata": {},
     "output_type": "execute_result"
    }
   ],
   "source": [
    "final_data"
   ]
  },
  {
   "cell_type": "code",
   "execution_count": null,
   "id": "6201ed1f",
   "metadata": {},
   "outputs": [],
   "source": []
  }
 ],
 "metadata": {
  "kernelspec": {
   "display_name": "Python 3 (ipykernel)",
   "language": "python",
   "name": "python3"
  },
  "language_info": {
   "codemirror_mode": {
    "name": "ipython",
    "version": 3
   },
   "file_extension": ".py",
   "mimetype": "text/x-python",
   "name": "python",
   "nbconvert_exporter": "python",
   "pygments_lexer": "ipython3",
   "version": "3.9.7"
  }
 },
 "nbformat": 4,
 "nbformat_minor": 5
}
