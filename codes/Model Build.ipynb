{
 "cells": [
  {
   "cell_type": "code",
   "execution_count": 1,
   "id": "ea7d7779",
   "metadata": {},
   "outputs": [],
   "source": [
    "from sklearn.feature_extraction.text import TfidfVectorizer\n",
    "from sklearn.preprocessing import MultiLabelBinarizer\n",
    "from sklearn.model_selection import train_test_split\n",
    "\n",
    "from sklearn.linear_model import SGDClassifier\n",
    "from sklearn.linear_model import LogisticRegression\n",
    "from sklearn.svm import LinearSVC\n",
    "\n",
    "from sklearn.multiclass import OneVsRestClassifier"
   ]
  },
  {
   "cell_type": "code",
   "execution_count": 2,
   "id": "a0550b3c",
   "metadata": {},
   "outputs": [],
   "source": [
    "import pandas as pd\n",
    "import numpy as np\n",
    "\n",
    "data = pd.read_csv('E:\\\\NLP\\\\Data\\\\Final Labeled Data - Sheet.csv')\n",
    "#data['Content'][3]\n",
    "#data.info()"
   ]
  },
  {
   "cell_type": "code",
   "execution_count": 3,
   "id": "01933e9b",
   "metadata": {},
   "outputs": [
    {
     "data": {
      "text/html": [
       "<div>\n",
       "<style scoped>\n",
       "    .dataframe tbody tr th:only-of-type {\n",
       "        vertical-align: middle;\n",
       "    }\n",
       "\n",
       "    .dataframe tbody tr th {\n",
       "        vertical-align: top;\n",
       "    }\n",
       "\n",
       "    .dataframe thead th {\n",
       "        text-align: right;\n",
       "    }\n",
       "</style>\n",
       "<table border=\"1\" class=\"dataframe\">\n",
       "  <thead>\n",
       "    <tr style=\"text-align: right;\">\n",
       "      <th></th>\n",
       "      <th>Serial No</th>\n",
       "      <th>Title</th>\n",
       "      <th>Content</th>\n",
       "      <th>Tokens</th>\n",
       "      <th>Tags</th>\n",
       "    </tr>\n",
       "  </thead>\n",
       "  <tbody>\n",
       "    <tr>\n",
       "      <th>0</th>\n",
       "      <td>0</td>\n",
       "      <td>punishment crimes committed substance susch co...</td>\n",
       "      <td>kills attempts cause death child woman burning...</td>\n",
       "      <td>child,woman,death,hurt,imprisonment,section,pu...</td>\n",
       "      <td>[child, woman, death, hurt, imprisonment, sect...</td>\n",
       "    </tr>\n",
       "    <tr>\n",
       "      <th>1</th>\n",
       "      <td>1</td>\n",
       "      <td>punishment abduction women children</td>\n",
       "      <td>human trafficking prevention suppression act a...</td>\n",
       "      <td>child,woman,death,hurt,imprisonment,section,pu...</td>\n",
       "      <td>[child, woman, death, hurt, imprisonment, sect...</td>\n",
       "    </tr>\n",
       "    <tr>\n",
       "      <th>2</th>\n",
       "      <td>2</td>\n",
       "      <td>punishment ransom</td>\n",
       "      <td>detains woman child ransom liable death life i...</td>\n",
       "      <td>child,woman,death,hurt,imprisonment,section,pu...</td>\n",
       "      <td>[child, woman, death, hurt, imprisonment, sect...</td>\n",
       "    </tr>\n",
       "    <tr>\n",
       "      <th>3</th>\n",
       "      <td>3</td>\n",
       "      <td>punishment rapem death due rape</td>\n",
       "      <td>man rapes woman child punishable death penalty...</td>\n",
       "      <td>child,woman,death,hurt,imprisonment,section,pu...</td>\n",
       "      <td>[child, woman, death, hurt, imprisonment, sect...</td>\n",
       "    </tr>\n",
       "    <tr>\n",
       "      <th>4</th>\n",
       "      <td>4</td>\n",
       "      <td>punishment inciting women commit suicide</td>\n",
       "      <td>woman commits suicide without consent woman du...</td>\n",
       "      <td>child,woman,death,hurt,imprisonment,section,pu...</td>\n",
       "      <td>[child, woman, death, hurt, imprisonment, sect...</td>\n",
       "    </tr>\n",
       "  </tbody>\n",
       "</table>\n",
       "</div>"
      ],
      "text/plain": [
       "   Serial No                                              Title  \\\n",
       "0          0  punishment crimes committed substance susch co...   \n",
       "1          1                punishment abduction women children   \n",
       "2          2                                  punishment ransom   \n",
       "3          3                    punishment rapem death due rape   \n",
       "4          4           punishment inciting women commit suicide   \n",
       "\n",
       "                                             Content  \\\n",
       "0  kills attempts cause death child woman burning...   \n",
       "1  human trafficking prevention suppression act a...   \n",
       "2  detains woman child ransom liable death life i...   \n",
       "3  man rapes woman child punishable death penalty...   \n",
       "4  woman commits suicide without consent woman du...   \n",
       "\n",
       "                                              Tokens  \\\n",
       "0  child,woman,death,hurt,imprisonment,section,pu...   \n",
       "1  child,woman,death,hurt,imprisonment,section,pu...   \n",
       "2  child,woman,death,hurt,imprisonment,section,pu...   \n",
       "3  child,woman,death,hurt,imprisonment,section,pu...   \n",
       "4  child,woman,death,hurt,imprisonment,section,pu...   \n",
       "\n",
       "                                                Tags  \n",
       "0  [child, woman, death, hurt, imprisonment, sect...  \n",
       "1  [child, woman, death, hurt, imprisonment, sect...  \n",
       "2  [child, woman, death, hurt, imprisonment, sect...  \n",
       "3  [child, woman, death, hurt, imprisonment, sect...  \n",
       "4  [child, woman, death, hurt, imprisonment, sect...  "
      ]
     },
     "execution_count": 3,
     "metadata": {},
     "output_type": "execute_result"
    }
   ],
   "source": [
    "data['Tags'] = data['Tokens'].str.split(',\\s*')\n",
    "data = data.drop(data.columns[3],axis=1)\n",
    "data.head()"
   ]
  },
  {
   "cell_type": "code",
   "execution_count": 4,
   "id": "d1ab87dd",
   "metadata": {},
   "outputs": [
    {
     "data": {
      "text/plain": [
       "list"
      ]
     },
     "execution_count": 4,
     "metadata": {},
     "output_type": "execute_result"
    }
   ],
   "source": [
    "import ast\n",
    "type(data['Tags'].iloc[0])"
   ]
  },
  {
   "cell_type": "code",
   "execution_count": 5,
   "id": "3bffe29c",
   "metadata": {},
   "outputs": [
    {
     "data": {
      "text/plain": [
       "MultiLabelBinarizer()"
      ]
     },
     "execution_count": 5,
     "metadata": {},
     "output_type": "execute_result"
    }
   ],
   "source": [
    "mlb = MultiLabelBinarizer()\n",
    "mlb.fit(data['Tags'])"
   ]
  },
  {
   "cell_type": "code",
   "execution_count": 7,
   "id": "8ded487d",
   "metadata": {},
   "outputs": [
    {
     "data": {
      "text/plain": [
       "array(['abducts', 'abetment', 'air', 'armed', 'army', 'assault',\n",
       "       'assembly', 'bangladesh', 'certificate', 'child', 'coin',\n",
       "       'commission', 'confine', 'confinement', 'convicted', 'counterfeit',\n",
       "       'counterfeiting', 'court', 'custody', 'death', 'duty', 'egally',\n",
       "       'engaged', 'evidence', 'fine', 'force', 'government', 'grievous',\n",
       "       'hired', 'hurt', 'imprisonment', 'information', 'injury',\n",
       "       'intentionally', 'issued', 'kidnaps', 'knowingly', 'lawful',\n",
       "       'liable', 'life', 'magistrate', 'murder', 'navy', 'notice',\n",
       "       'offence', 'office', 'order', 'prisoner', 'property',\n",
       "       'provocation', 'public', 'punishable', 'punished', 'restrains',\n",
       "       'sailor', 'sale', 'section', 'servant', 'soldier', 'stamp',\n",
       "       'suicide', 'term', 'theft', 'unlawful', 'war', 'weapon', 'woman',\n",
       "       'wrongfully', 'years'], dtype=object)"
      ]
     },
     "execution_count": 7,
     "metadata": {},
     "output_type": "execute_result"
    }
   ],
   "source": [
    "mlb.classes_"
   ]
  },
  {
   "cell_type": "code",
   "execution_count": 8,
   "id": "78328208",
   "metadata": {},
   "outputs": [
    {
     "data": {
      "text/plain": [
       "array(['child', 'woman', 'death', 'hurt', 'imprisonment', 'section',\n",
       "       'punished', 'life', 'grievous', 'punishable', 'coin', 'bangladesh',\n",
       "       'counterfeiting', 'war', 'stamp', 'issued', 'government',\n",
       "       'counterfeit', 'knowingly', 'offence', 'evidence', 'convicted',\n",
       "       'weapon', 'years', 'fine', 'certificate', 'term', 'armed', 'theft',\n",
       "       'assembly', 'suicide', 'unlawful', 'engaged', 'liable', 'murder',\n",
       "       'hired', 'egally', 'notice', 'order', 'public', 'servant',\n",
       "       'intentionally', 'information', 'provocation', 'commission',\n",
       "       'court', 'property', 'duty', 'injury', 'lawful', 'office', 'sale',\n",
       "       'sailor', 'soldier', 'air', 'navy', 'army', 'force', 'assault',\n",
       "       'abetment', 'magistrate', 'wrongfully', 'prisoner', 'confine',\n",
       "       'kidnaps', 'confinement', 'abducts', 'restrains', 'custody'],\n",
       "      dtype=object)"
      ]
     },
     "execution_count": 8,
     "metadata": {},
     "output_type": "execute_result"
    }
   ],
   "source": [
    "data['Tags'].explode().unique()"
   ]
  },
  {
   "cell_type": "code",
   "execution_count": 9,
   "id": "1b59fdfe",
   "metadata": {},
   "outputs": [
    {
     "data": {
      "text/plain": [
       "array(['abducts', 'abetment', 'air', 'armed', 'army', 'assault',\n",
       "       'assembly', 'bangladesh', 'certificate', 'child', 'coin',\n",
       "       'commission', 'confine', 'confinement', 'convicted', 'counterfeit',\n",
       "       'counterfeiting', 'court', 'custody', 'death', 'duty', 'egally',\n",
       "       'engaged', 'evidence', 'fine', 'force', 'government', 'grievous',\n",
       "       'hired', 'hurt', 'imprisonment', 'information', 'injury',\n",
       "       'intentionally', 'issued', 'kidnaps', 'knowingly', 'lawful',\n",
       "       'liable', 'life', 'magistrate', 'murder', 'navy', 'notice',\n",
       "       'offence', 'office', 'order', 'prisoner', 'property',\n",
       "       'provocation', 'public', 'punishable', 'punished', 'restrains',\n",
       "       'sailor', 'sale', 'section', 'servant', 'soldier', 'stamp',\n",
       "       'suicide', 'term', 'theft', 'unlawful', 'war', 'weapon', 'woman',\n",
       "       'wrongfully', 'years'], dtype=object)"
      ]
     },
     "execution_count": 9,
     "metadata": {},
     "output_type": "execute_result"
    }
   ],
   "source": [
    "(pd.Series(data['Tags'].explode().unique()).sort_values()).to_numpy()"
   ]
  },
  {
   "cell_type": "code",
   "execution_count": 11,
   "id": "5640890f",
   "metadata": {},
   "outputs": [],
   "source": [
    "y = mlb.fit_transform(data['Tags'])\n",
    "#y\n",
    "#mlb.classes_"
   ]
  },
  {
   "cell_type": "code",
   "execution_count": 12,
   "id": "4ed7eab6",
   "metadata": {},
   "outputs": [
    {
     "data": {
      "text/html": [
       "<div>\n",
       "<style scoped>\n",
       "    .dataframe tbody tr th:only-of-type {\n",
       "        vertical-align: middle;\n",
       "    }\n",
       "\n",
       "    .dataframe tbody tr th {\n",
       "        vertical-align: top;\n",
       "    }\n",
       "\n",
       "    .dataframe thead th {\n",
       "        text-align: right;\n",
       "    }\n",
       "</style>\n",
       "<table border=\"1\" class=\"dataframe\">\n",
       "  <thead>\n",
       "    <tr style=\"text-align: right;\">\n",
       "      <th></th>\n",
       "      <th>abducts</th>\n",
       "      <th>abetment</th>\n",
       "      <th>air</th>\n",
       "      <th>armed</th>\n",
       "      <th>army</th>\n",
       "      <th>assault</th>\n",
       "      <th>assembly</th>\n",
       "      <th>bangladesh</th>\n",
       "      <th>certificate</th>\n",
       "      <th>child</th>\n",
       "      <th>...</th>\n",
       "      <th>stamp</th>\n",
       "      <th>suicide</th>\n",
       "      <th>term</th>\n",
       "      <th>theft</th>\n",
       "      <th>unlawful</th>\n",
       "      <th>war</th>\n",
       "      <th>weapon</th>\n",
       "      <th>woman</th>\n",
       "      <th>wrongfully</th>\n",
       "      <th>years</th>\n",
       "    </tr>\n",
       "  </thead>\n",
       "  <tbody>\n",
       "    <tr>\n",
       "      <th>0</th>\n",
       "      <td>0</td>\n",
       "      <td>0</td>\n",
       "      <td>0</td>\n",
       "      <td>0</td>\n",
       "      <td>0</td>\n",
       "      <td>0</td>\n",
       "      <td>0</td>\n",
       "      <td>0</td>\n",
       "      <td>0</td>\n",
       "      <td>1</td>\n",
       "      <td>...</td>\n",
       "      <td>0</td>\n",
       "      <td>0</td>\n",
       "      <td>0</td>\n",
       "      <td>0</td>\n",
       "      <td>0</td>\n",
       "      <td>0</td>\n",
       "      <td>0</td>\n",
       "      <td>1</td>\n",
       "      <td>0</td>\n",
       "      <td>0</td>\n",
       "    </tr>\n",
       "    <tr>\n",
       "      <th>1</th>\n",
       "      <td>0</td>\n",
       "      <td>0</td>\n",
       "      <td>0</td>\n",
       "      <td>0</td>\n",
       "      <td>0</td>\n",
       "      <td>0</td>\n",
       "      <td>0</td>\n",
       "      <td>0</td>\n",
       "      <td>0</td>\n",
       "      <td>1</td>\n",
       "      <td>...</td>\n",
       "      <td>0</td>\n",
       "      <td>0</td>\n",
       "      <td>0</td>\n",
       "      <td>0</td>\n",
       "      <td>0</td>\n",
       "      <td>0</td>\n",
       "      <td>0</td>\n",
       "      <td>1</td>\n",
       "      <td>0</td>\n",
       "      <td>0</td>\n",
       "    </tr>\n",
       "    <tr>\n",
       "      <th>2</th>\n",
       "      <td>0</td>\n",
       "      <td>0</td>\n",
       "      <td>0</td>\n",
       "      <td>0</td>\n",
       "      <td>0</td>\n",
       "      <td>0</td>\n",
       "      <td>0</td>\n",
       "      <td>0</td>\n",
       "      <td>0</td>\n",
       "      <td>1</td>\n",
       "      <td>...</td>\n",
       "      <td>0</td>\n",
       "      <td>0</td>\n",
       "      <td>0</td>\n",
       "      <td>0</td>\n",
       "      <td>0</td>\n",
       "      <td>0</td>\n",
       "      <td>0</td>\n",
       "      <td>1</td>\n",
       "      <td>0</td>\n",
       "      <td>0</td>\n",
       "    </tr>\n",
       "    <tr>\n",
       "      <th>3</th>\n",
       "      <td>0</td>\n",
       "      <td>0</td>\n",
       "      <td>0</td>\n",
       "      <td>0</td>\n",
       "      <td>0</td>\n",
       "      <td>0</td>\n",
       "      <td>0</td>\n",
       "      <td>0</td>\n",
       "      <td>0</td>\n",
       "      <td>1</td>\n",
       "      <td>...</td>\n",
       "      <td>0</td>\n",
       "      <td>0</td>\n",
       "      <td>0</td>\n",
       "      <td>0</td>\n",
       "      <td>0</td>\n",
       "      <td>0</td>\n",
       "      <td>0</td>\n",
       "      <td>1</td>\n",
       "      <td>0</td>\n",
       "      <td>0</td>\n",
       "    </tr>\n",
       "    <tr>\n",
       "      <th>4</th>\n",
       "      <td>0</td>\n",
       "      <td>0</td>\n",
       "      <td>0</td>\n",
       "      <td>0</td>\n",
       "      <td>0</td>\n",
       "      <td>0</td>\n",
       "      <td>0</td>\n",
       "      <td>0</td>\n",
       "      <td>0</td>\n",
       "      <td>1</td>\n",
       "      <td>...</td>\n",
       "      <td>0</td>\n",
       "      <td>0</td>\n",
       "      <td>0</td>\n",
       "      <td>0</td>\n",
       "      <td>0</td>\n",
       "      <td>0</td>\n",
       "      <td>0</td>\n",
       "      <td>1</td>\n",
       "      <td>0</td>\n",
       "      <td>0</td>\n",
       "    </tr>\n",
       "    <tr>\n",
       "      <th>...</th>\n",
       "      <td>...</td>\n",
       "      <td>...</td>\n",
       "      <td>...</td>\n",
       "      <td>...</td>\n",
       "      <td>...</td>\n",
       "      <td>...</td>\n",
       "      <td>...</td>\n",
       "      <td>...</td>\n",
       "      <td>...</td>\n",
       "      <td>...</td>\n",
       "      <td>...</td>\n",
       "      <td>...</td>\n",
       "      <td>...</td>\n",
       "      <td>...</td>\n",
       "      <td>...</td>\n",
       "      <td>...</td>\n",
       "      <td>...</td>\n",
       "      <td>...</td>\n",
       "      <td>...</td>\n",
       "      <td>...</td>\n",
       "      <td>...</td>\n",
       "    </tr>\n",
       "    <tr>\n",
       "      <th>195</th>\n",
       "      <td>0</td>\n",
       "      <td>0</td>\n",
       "      <td>0</td>\n",
       "      <td>0</td>\n",
       "      <td>0</td>\n",
       "      <td>0</td>\n",
       "      <td>0</td>\n",
       "      <td>0</td>\n",
       "      <td>0</td>\n",
       "      <td>0</td>\n",
       "      <td>...</td>\n",
       "      <td>0</td>\n",
       "      <td>0</td>\n",
       "      <td>0</td>\n",
       "      <td>0</td>\n",
       "      <td>0</td>\n",
       "      <td>0</td>\n",
       "      <td>0</td>\n",
       "      <td>0</td>\n",
       "      <td>0</td>\n",
       "      <td>0</td>\n",
       "    </tr>\n",
       "    <tr>\n",
       "      <th>196</th>\n",
       "      <td>0</td>\n",
       "      <td>0</td>\n",
       "      <td>0</td>\n",
       "      <td>0</td>\n",
       "      <td>0</td>\n",
       "      <td>0</td>\n",
       "      <td>1</td>\n",
       "      <td>0</td>\n",
       "      <td>0</td>\n",
       "      <td>0</td>\n",
       "      <td>...</td>\n",
       "      <td>0</td>\n",
       "      <td>1</td>\n",
       "      <td>0</td>\n",
       "      <td>1</td>\n",
       "      <td>1</td>\n",
       "      <td>0</td>\n",
       "      <td>0</td>\n",
       "      <td>0</td>\n",
       "      <td>0</td>\n",
       "      <td>0</td>\n",
       "    </tr>\n",
       "    <tr>\n",
       "      <th>197</th>\n",
       "      <td>0</td>\n",
       "      <td>0</td>\n",
       "      <td>0</td>\n",
       "      <td>0</td>\n",
       "      <td>0</td>\n",
       "      <td>0</td>\n",
       "      <td>1</td>\n",
       "      <td>0</td>\n",
       "      <td>0</td>\n",
       "      <td>0</td>\n",
       "      <td>...</td>\n",
       "      <td>0</td>\n",
       "      <td>1</td>\n",
       "      <td>0</td>\n",
       "      <td>1</td>\n",
       "      <td>1</td>\n",
       "      <td>0</td>\n",
       "      <td>0</td>\n",
       "      <td>0</td>\n",
       "      <td>0</td>\n",
       "      <td>0</td>\n",
       "    </tr>\n",
       "    <tr>\n",
       "      <th>198</th>\n",
       "      <td>0</td>\n",
       "      <td>0</td>\n",
       "      <td>0</td>\n",
       "      <td>0</td>\n",
       "      <td>0</td>\n",
       "      <td>0</td>\n",
       "      <td>1</td>\n",
       "      <td>0</td>\n",
       "      <td>0</td>\n",
       "      <td>0</td>\n",
       "      <td>...</td>\n",
       "      <td>0</td>\n",
       "      <td>1</td>\n",
       "      <td>0</td>\n",
       "      <td>1</td>\n",
       "      <td>1</td>\n",
       "      <td>0</td>\n",
       "      <td>0</td>\n",
       "      <td>0</td>\n",
       "      <td>0</td>\n",
       "      <td>0</td>\n",
       "    </tr>\n",
       "    <tr>\n",
       "      <th>199</th>\n",
       "      <td>0</td>\n",
       "      <td>0</td>\n",
       "      <td>0</td>\n",
       "      <td>0</td>\n",
       "      <td>0</td>\n",
       "      <td>0</td>\n",
       "      <td>1</td>\n",
       "      <td>0</td>\n",
       "      <td>0</td>\n",
       "      <td>0</td>\n",
       "      <td>...</td>\n",
       "      <td>0</td>\n",
       "      <td>1</td>\n",
       "      <td>0</td>\n",
       "      <td>1</td>\n",
       "      <td>1</td>\n",
       "      <td>0</td>\n",
       "      <td>0</td>\n",
       "      <td>0</td>\n",
       "      <td>0</td>\n",
       "      <td>0</td>\n",
       "    </tr>\n",
       "  </tbody>\n",
       "</table>\n",
       "<p>200 rows × 69 columns</p>\n",
       "</div>"
      ],
      "text/plain": [
       "     abducts  abetment  air  armed  army  assault  assembly  bangladesh  \\\n",
       "0          0         0    0      0     0        0         0           0   \n",
       "1          0         0    0      0     0        0         0           0   \n",
       "2          0         0    0      0     0        0         0           0   \n",
       "3          0         0    0      0     0        0         0           0   \n",
       "4          0         0    0      0     0        0         0           0   \n",
       "..       ...       ...  ...    ...   ...      ...       ...         ...   \n",
       "195        0         0    0      0     0        0         0           0   \n",
       "196        0         0    0      0     0        0         1           0   \n",
       "197        0         0    0      0     0        0         1           0   \n",
       "198        0         0    0      0     0        0         1           0   \n",
       "199        0         0    0      0     0        0         1           0   \n",
       "\n",
       "     certificate  child  ...  stamp  suicide  term  theft  unlawful  war  \\\n",
       "0              0      1  ...      0        0     0      0         0    0   \n",
       "1              0      1  ...      0        0     0      0         0    0   \n",
       "2              0      1  ...      0        0     0      0         0    0   \n",
       "3              0      1  ...      0        0     0      0         0    0   \n",
       "4              0      1  ...      0        0     0      0         0    0   \n",
       "..           ...    ...  ...    ...      ...   ...    ...       ...  ...   \n",
       "195            0      0  ...      0        0     0      0         0    0   \n",
       "196            0      0  ...      0        1     0      1         1    0   \n",
       "197            0      0  ...      0        1     0      1         1    0   \n",
       "198            0      0  ...      0        1     0      1         1    0   \n",
       "199            0      0  ...      0        1     0      1         1    0   \n",
       "\n",
       "     weapon  woman  wrongfully  years  \n",
       "0         0      1           0      0  \n",
       "1         0      1           0      0  \n",
       "2         0      1           0      0  \n",
       "3         0      1           0      0  \n",
       "4         0      1           0      0  \n",
       "..      ...    ...         ...    ...  \n",
       "195       0      0           0      0  \n",
       "196       0      0           0      0  \n",
       "197       0      0           0      0  \n",
       "198       0      0           0      0  \n",
       "199       0      0           0      0  \n",
       "\n",
       "[200 rows x 69 columns]"
      ]
     },
     "execution_count": 12,
     "metadata": {},
     "output_type": "execute_result"
    }
   ],
   "source": [
    "new_col = pd.DataFrame(y, columns = mlb.classes_)\n",
    "new_col"
   ]
  },
  {
   "cell_type": "code",
   "execution_count": null,
   "id": "763728dd",
   "metadata": {},
   "outputs": [],
   "source": []
  },
  {
   "cell_type": "code",
   "execution_count": 13,
   "id": "502b89ce",
   "metadata": {},
   "outputs": [
    {
     "data": {
      "text/plain": [
       "<200x7431 sparse matrix of type '<class 'numpy.float64'>'\n",
       "\twith 15281 stored elements in Compressed Sparse Row format>"
      ]
     },
     "execution_count": 13,
     "metadata": {},
     "output_type": "execute_result"
    }
   ],
   "source": [
    "tfidf = TfidfVectorizer(analyzer='word', max_features=10000, ngram_range=(1,3), stop_words='english')\n",
    "X = tfidf.fit_transform(data['Content'])\n",
    "X"
   ]
  },
  {
   "cell_type": "code",
   "execution_count": 14,
   "id": "43714e4b",
   "metadata": {},
   "outputs": [
    {
     "data": {
      "text/plain": [
       "((200, 7431), (200, 69))"
      ]
     },
     "execution_count": 14,
     "metadata": {},
     "output_type": "execute_result"
    }
   ],
   "source": [
    "X.shape, y.shape"
   ]
  },
  {
   "cell_type": "code",
   "execution_count": 15,
   "id": "7c6c20cb",
   "metadata": {},
   "outputs": [],
   "source": [
    "X_train, X_test, y_train, y_test = train_test_split(X, y, test_size = 0.2, random_state = 0)"
   ]
  },
  {
   "cell_type": "code",
   "execution_count": 16,
   "id": "089323b1",
   "metadata": {},
   "outputs": [
    {
     "name": "stdout",
     "output_type": "stream",
     "text": [
      "(160, 7431) (40, 7431) (160, 69) (40, 69)\n"
     ]
    }
   ],
   "source": [
    "print(X_train.shape, X_test.shape, y_train.shape, y_test.shape)"
   ]
  },
  {
   "cell_type": "code",
   "execution_count": null,
   "id": "9811e55f",
   "metadata": {},
   "outputs": [],
   "source": []
  },
  {
   "cell_type": "code",
   "execution_count": 17,
   "id": "4ef340d3",
   "metadata": {},
   "outputs": [],
   "source": [
    "import logging\n",
    "import pandas as pd\n",
    "import numpy as np\n",
    "from numpy import random\n",
    "import gensim\n",
    "import nltk\n",
    "from sklearn.model_selection import train_test_split\n",
    "from sklearn.feature_extraction.text import CountVectorizer, TfidfVectorizer\n",
    "from sklearn.metrics import accuracy_score, confusion_matrix\n",
    "import matplotlib.pyplot as plt\n",
    "from nltk.corpus import stopwords\n",
    "import re\n",
    "from bs4 import BeautifulSoup\n",
    "%matplotlib inline"
   ]
  },
  {
   "cell_type": "markdown",
   "id": "c1caff7d",
   "metadata": {},
   "source": [
    "# Model"
   ]
  },
  {
   "cell_type": "code",
   "execution_count": 18,
   "id": "cebcafd0",
   "metadata": {},
   "outputs": [],
   "source": [
    "sgd = SGDClassifier()\n",
    "lr = LogisticRegression(solver='lbfgs')\n",
    "svc = LinearSVC()"
   ]
  },
  {
   "cell_type": "code",
   "execution_count": 19,
   "id": "28655120",
   "metadata": {},
   "outputs": [],
   "source": [
    "def j_score(y_true, y_pred):\n",
    "  jaccard = np.minimum(y_true, y_pred).sum(axis = 1)/np.maximum(y_true, y_pred).sum(axis = 1)\n",
    "  return jaccard.mean()*100\n",
    "\n",
    "\n",
    "def print_score(y_pred, clf):\n",
    "  print(\"Clf: \", clf.__class__.__name__)\n",
    "  print('Jacard score: {}'.format(j_score(y_test, y_pred)))\n",
    "  print('----')"
   ]
  },
  {
   "cell_type": "code",
   "execution_count": 20,
   "id": "d3fb7ae5",
   "metadata": {},
   "outputs": [
    {
     "name": "stdout",
     "output_type": "stream",
     "text": [
      "Clf:  LinearSVC\n",
      "Jacard score: 48.93567251461988\n",
      "----\n"
     ]
    }
   ],
   "source": [
    "for classifier in [LinearSVC(C=1.5, penalty = 'l1', dual=False)]:\n",
    "  clf = OneVsRestClassifier(classifier)\n",
    "  clf.fit(X_train, y_train)\n",
    "  y_pred = clf.predict(X_test)\n",
    "  print_score(y_pred, classifier)"
   ]
  },
  {
   "cell_type": "code",
   "execution_count": null,
   "id": "63528ad3",
   "metadata": {},
   "outputs": [],
   "source": []
  },
  {
   "cell_type": "code",
   "execution_count": 21,
   "id": "715fcf09",
   "metadata": {},
   "outputs": [
    {
     "name": "stdout",
     "output_type": "stream",
     "text": [
      "Clf:  SGDClassifier\n",
      "Jacard score: 47.21435483161489\n",
      "----\n",
      "Clf:  LogisticRegression\n",
      "Jacard score: 7.75\n",
      "----\n",
      "Clf:  LinearSVC\n",
      "Jacard score: 41.33158508158509\n",
      "----\n"
     ]
    }
   ],
   "source": [
    "for classifier in [sgd, lr, svc]:\n",
    "  clf = OneVsRestClassifier(classifier)\n",
    "  clf.fit(X_train, y_train)\n",
    "  y_pred = clf.predict(X_test)\n",
    "  print_score(y_pred, classifier)\n"
   ]
  },
  {
   "cell_type": "markdown",
   "id": "cb466503",
   "metadata": {},
   "source": [
    "## More Model"
   ]
  },
  {
   "cell_type": "code",
   "execution_count": 24,
   "id": "71e48726",
   "metadata": {},
   "outputs": [
    {
     "name": "stdout",
     "output_type": "stream",
     "text": [
      "Requirement already satisfied: scikit-multilearn in c:\\users\\dk23\\anaconda3\\lib\\site-packages (0.2.0)\n",
      "Note: you may need to restart the kernel to use updated packages.\n"
     ]
    }
   ],
   "source": [
    "pip install scikit-multilearn"
   ]
  },
  {
   "cell_type": "code",
   "execution_count": 22,
   "id": "0bab2e76",
   "metadata": {},
   "outputs": [],
   "source": [
    "from sklearn.metrics import accuracy_score"
   ]
  },
  {
   "cell_type": "code",
   "execution_count": 38,
   "id": "d08adb93",
   "metadata": {},
   "outputs": [
    {
     "name": "stdout",
     "output_type": "stream",
     "text": [
      "accuracy 0.45\n",
      "                precision    recall  f1-score   support\n",
      "\n",
      "       abducts       1.00      0.25      0.40         4\n",
      "      abetment       0.67      1.00      0.80         2\n",
      "           air       0.67      1.00      0.80         2\n",
      "         armed       0.33      0.50      0.40         2\n",
      "          army       0.67      1.00      0.80         2\n",
      "       assault       0.67      1.00      0.80         2\n",
      "      assembly       0.00      0.00      0.00         8\n",
      "    bangladesh       0.75      0.60      0.67        10\n",
      "   certificate       0.33      0.50      0.40         2\n",
      "         child       0.40      0.57      0.47         7\n",
      "          coin       1.00      0.75      0.86         4\n",
      "    commission       0.60      0.43      0.50         7\n",
      "       confine       1.00      0.25      0.40         4\n",
      "   confinement       1.00      0.25      0.40         4\n",
      "     convicted       0.33      0.50      0.40         2\n",
      "   counterfeit       1.00      0.75      0.86         4\n",
      "counterfeiting       1.00      0.75      0.86         4\n",
      "         court       0.60      0.43      0.50         7\n",
      "       custody       1.00      0.25      0.40         4\n",
      "         death       0.73      0.53      0.62        15\n",
      "          duty       0.83      0.83      0.83         6\n",
      "        egally       0.60      0.43      0.50         7\n",
      "       engaged       0.00      0.00      0.00         8\n",
      "      evidence       0.33      0.50      0.40         2\n",
      "          fine       0.40      0.20      0.27        10\n",
      "         force       0.67      1.00      0.80         2\n",
      "    government       1.00      0.75      0.86         4\n",
      "      grievous       0.40      0.57      0.47         7\n",
      "         hired       0.00      0.00      0.00         8\n",
      "          hurt       0.40      0.57      0.47         7\n",
      "  imprisonment       0.53      0.69      0.60        13\n",
      "   information       0.60      0.43      0.50         7\n",
      "        injury       0.83      0.83      0.83         6\n",
      " intentionally       0.60      0.43      0.50         7\n",
      "        issued       1.00      0.75      0.86         4\n",
      "       kidnaps       1.00      0.25      0.40         4\n",
      "     knowingly       1.00      0.75      0.86         4\n",
      "        lawful       0.83      0.83      0.83         6\n",
      "        liable       0.00      0.00      0.00         8\n",
      "          life       0.40      0.57      0.47         7\n",
      "    magistrate       0.67      1.00      0.80         2\n",
      "        murder       0.00      0.00      0.00         8\n",
      "          navy       0.67      1.00      0.80         2\n",
      "        notice       0.60      0.43      0.50         7\n",
      "       offence       0.46      0.67      0.55         9\n",
      "        office       0.83      0.83      0.83         6\n",
      "         order       0.60      0.43      0.50         7\n",
      "      prisoner       1.00      0.25      0.40         4\n",
      "      property       0.83      0.83      0.83         6\n",
      "   provocation       0.60      0.43      0.50         7\n",
      "        public       0.85      0.85      0.85        13\n",
      "    punishable       0.40      0.57      0.47         7\n",
      "      punished       0.62      0.84      0.71        19\n",
      "     restrains       1.00      0.25      0.40         4\n",
      "        sailor       0.67      1.00      0.80         2\n",
      "          sale       0.83      0.83      0.83         6\n",
      "       section       0.40      0.57      0.47         7\n",
      "       servant       0.85      0.85      0.85        13\n",
      "       soldier       0.67      1.00      0.80         2\n",
      "         stamp       1.00      0.75      0.86         4\n",
      "       suicide       0.00      0.00      0.00         8\n",
      "          term       0.33      0.50      0.40         2\n",
      "         theft       0.00      0.00      0.00         8\n",
      "      unlawful       0.00      0.00      0.00         8\n",
      "           war       0.80      0.50      0.62         8\n",
      "        weapon       0.33      0.50      0.40         2\n",
      "         woman       0.40      0.57      0.47         7\n",
      "    wrongfully       1.00      0.25      0.40         4\n",
      "         years       0.33      0.50      0.40         2\n",
      "\n",
      "     micro avg       0.63      0.51      0.56       407\n",
      "     macro avg       0.61      0.55      0.54       407\n",
      "  weighted avg       0.57      0.51      0.51       407\n",
      "   samples avg       0.58      0.51      0.52       407\n",
      "\n",
      "Wall time: 2.33 s\n"
     ]
    },
    {
     "name": "stderr",
     "output_type": "stream",
     "text": [
      "C:\\Users\\DK23\\anaconda3\\lib\\site-packages\\sklearn\\metrics\\_classification.py:1248: UndefinedMetricWarning: Precision and F-score are ill-defined and being set to 0.0 in labels with no predicted samples. Use `zero_division` parameter to control this behavior.\n",
      "  _warn_prf(average, modifier, msg_start, len(result))\n",
      "C:\\Users\\DK23\\anaconda3\\lib\\site-packages\\sklearn\\metrics\\_classification.py:1248: UndefinedMetricWarning: Precision and F-score are ill-defined and being set to 0.0 in samples with no predicted labels. Use `zero_division` parameter to control this behavior.\n",
      "  _warn_prf(average, modifier, msg_start, len(result))\n"
     ]
    }
   ],
   "source": [
    "%%time\n",
    "\n",
    "# using binary relevance\n",
    "from skmultilearn.problem_transform import BinaryRelevance\n",
    "from sklearn.naive_bayes import GaussianNB\n",
    "\n",
    "# initialize binary relevance multi-label classifier\n",
    "# with a gaussian naive bayes base classifier\n",
    "classifier = BinaryRelevance(GaussianNB())\n",
    "\n",
    "# train\n",
    "classifier.fit(X_train, y_train)\n",
    "\n",
    "# predict\n",
    "predictions = classifier.predict(X_test)\n",
    "\n",
    "# accuracy check\n",
    "#accuracy_score(y_test,predictions)\n",
    "\n",
    "\n",
    "from sklearn.metrics import classification_report\n",
    "\n",
    "print('accuracy %s' % accuracy_score(predictions, y_test))\n",
    "print(classification_report(y_test, predictions,target_names= mlb.classes_))"
   ]
  },
  {
   "cell_type": "code",
   "execution_count": null,
   "id": "c4220b50",
   "metadata": {},
   "outputs": [],
   "source": []
  },
  {
   "cell_type": "code",
   "execution_count": 39,
   "id": "280d74c1",
   "metadata": {},
   "outputs": [
    {
     "name": "stdout",
     "output_type": "stream",
     "text": [
      "accuracy 0.475\n",
      "                precision    recall  f1-score   support\n",
      "\n",
      "       abducts       1.00      0.25      0.40         4\n",
      "      abetment       0.67      1.00      0.80         2\n",
      "           air       0.67      1.00      0.80         2\n",
      "         armed       0.33      0.50      0.40         2\n",
      "          army       0.67      1.00      0.80         2\n",
      "       assault       0.67      1.00      0.80         2\n",
      "      assembly       0.00      0.00      0.00         8\n",
      "    bangladesh       0.75      0.60      0.67        10\n",
      "   certificate       0.33      0.50      0.40         2\n",
      "         child       0.40      0.57      0.47         7\n",
      "          coin       1.00      0.75      0.86         4\n",
      "    commission       0.60      0.43      0.50         7\n",
      "       confine       1.00      0.25      0.40         4\n",
      "   confinement       1.00      0.25      0.40         4\n",
      "     convicted       0.33      0.50      0.40         2\n",
      "   counterfeit       1.00      0.75      0.86         4\n",
      "counterfeiting       1.00      0.75      0.86         4\n",
      "         court       0.60      0.43      0.50         7\n",
      "       custody       1.00      0.25      0.40         4\n",
      "         death       0.73      0.53      0.62        15\n",
      "          duty       0.83      0.83      0.83         6\n",
      "        egally       0.60      0.43      0.50         7\n",
      "       engaged       0.00      0.00      0.00         8\n",
      "      evidence       0.33      0.50      0.40         2\n",
      "          fine       0.40      0.20      0.27        10\n",
      "         force       0.67      1.00      0.80         2\n",
      "    government       1.00      0.75      0.86         4\n",
      "      grievous       0.40      0.57      0.47         7\n",
      "         hired       0.00      0.00      0.00         8\n",
      "          hurt       0.40      0.57      0.47         7\n",
      "  imprisonment       0.56      0.69      0.62        13\n",
      "   information       0.60      0.43      0.50         7\n",
      "        injury       0.83      0.83      0.83         6\n",
      " intentionally       0.60      0.43      0.50         7\n",
      "        issued       1.00      0.75      0.86         4\n",
      "       kidnaps       1.00      0.25      0.40         4\n",
      "     knowingly       1.00      0.75      0.86         4\n",
      "        lawful       0.83      0.83      0.83         6\n",
      "        liable       0.00      0.00      0.00         8\n",
      "          life       0.40      0.57      0.47         7\n",
      "    magistrate       0.67      1.00      0.80         2\n",
      "        murder       0.00      0.00      0.00         8\n",
      "          navy       0.67      1.00      0.80         2\n",
      "        notice       0.60      0.43      0.50         7\n",
      "       offence       0.50      0.67      0.57         9\n",
      "        office       0.83      0.83      0.83         6\n",
      "         order       0.60      0.43      0.50         7\n",
      "      prisoner       1.00      0.25      0.40         4\n",
      "      property       0.83      0.83      0.83         6\n",
      "   provocation       0.60      0.43      0.50         7\n",
      "        public       0.85      0.85      0.85        13\n",
      "    punishable       0.40      0.57      0.47         7\n",
      "      punished       0.62      0.84      0.71        19\n",
      "     restrains       1.00      0.25      0.40         4\n",
      "        sailor       0.67      1.00      0.80         2\n",
      "          sale       0.83      0.83      0.83         6\n",
      "       section       0.40      0.57      0.47         7\n",
      "       servant       0.85      0.85      0.85        13\n",
      "       soldier       0.67      1.00      0.80         2\n",
      "         stamp       1.00      0.75      0.86         4\n",
      "       suicide       0.00      0.00      0.00         8\n",
      "          term       0.33      0.50      0.40         2\n",
      "         theft       0.00      0.00      0.00         8\n",
      "      unlawful       0.00      0.00      0.00         8\n",
      "           war       0.80      0.50      0.62         8\n",
      "        weapon       0.33      0.50      0.40         2\n",
      "         woman       0.40      0.57      0.47         7\n",
      "    wrongfully       1.00      0.25      0.40         4\n",
      "         years       0.33      0.50      0.40         2\n",
      "\n",
      "     micro avg       0.63      0.51      0.57       407\n",
      "     macro avg       0.61      0.55      0.54       407\n",
      "  weighted avg       0.58      0.51      0.52       407\n",
      "   samples avg       0.59      0.51      0.53       407\n",
      "\n",
      "Wall time: 2.43 s\n"
     ]
    },
    {
     "name": "stderr",
     "output_type": "stream",
     "text": [
      "C:\\Users\\DK23\\anaconda3\\lib\\site-packages\\sklearn\\metrics\\_classification.py:1248: UndefinedMetricWarning: Precision and F-score are ill-defined and being set to 0.0 in labels with no predicted samples. Use `zero_division` parameter to control this behavior.\n",
      "  _warn_prf(average, modifier, msg_start, len(result))\n",
      "C:\\Users\\DK23\\anaconda3\\lib\\site-packages\\sklearn\\metrics\\_classification.py:1248: UndefinedMetricWarning: Precision and F-score are ill-defined and being set to 0.0 in samples with no predicted labels. Use `zero_division` parameter to control this behavior.\n",
      "  _warn_prf(average, modifier, msg_start, len(result))\n"
     ]
    }
   ],
   "source": [
    "%%time\n",
    "# using classifier chains\n",
    "from skmultilearn.problem_transform import ClassifierChain\n",
    "from sklearn.naive_bayes import GaussianNB\n",
    "\n",
    "# initialize classifier chains multi-label classifier\n",
    "# with a gaussian naive bayes base classifier\n",
    "classifier = ClassifierChain(GaussianNB())\n",
    "\n",
    "# train\n",
    "classifier.fit(X_train, y_train)\n",
    "\n",
    "# predict\n",
    "predictions = classifier.predict(X_test)\n",
    "\n",
    "#accuracy_score(y_test,predictions)\n",
    "\n",
    "from sklearn.metrics import classification_report\n",
    "\n",
    "print('accuracy %s' % accuracy_score(predictions, y_test))\n",
    "print(classification_report(y_test, predictions,target_names= mlb.classes_))"
   ]
  },
  {
   "cell_type": "code",
   "execution_count": 31,
   "id": "868178c4",
   "metadata": {},
   "outputs": [
    {
     "name": "stdout",
     "output_type": "stream",
     "text": [
      "accuracy 0.525\n",
      "                precision    recall  f1-score   support\n",
      "\n",
      "       abducts       1.00      0.25      0.40         4\n",
      "      abetment       0.67      1.00      0.80         2\n",
      "           air       0.67      1.00      0.80         2\n",
      "         armed       0.17      0.50      0.25         2\n",
      "          army       0.67      1.00      0.80         2\n",
      "       assault       0.67      1.00      0.80         2\n",
      "      assembly       0.00      0.00      0.00         8\n",
      "    bangladesh       0.75      0.60      0.67        10\n",
      "   certificate       0.17      0.50      0.25         2\n",
      "         child       0.45      0.71      0.56         7\n",
      "          coin       0.75      0.75      0.75         4\n",
      "    commission       0.50      0.57      0.53         7\n",
      "       confine       1.00      0.25      0.40         4\n",
      "   confinement       1.00      0.25      0.40         4\n",
      "     convicted       0.17      0.50      0.25         2\n",
      "   counterfeit       0.75      0.75      0.75         4\n",
      "counterfeiting       0.75      0.75      0.75         4\n",
      "         court       0.50      0.57      0.53         7\n",
      "       custody       1.00      0.25      0.40         4\n",
      "         death       0.73      0.53      0.62        15\n",
      "          duty       0.71      0.83      0.77         6\n",
      "        egally       0.50      0.57      0.53         7\n",
      "       engaged       0.00      0.00      0.00         8\n",
      "      evidence       0.17      0.50      0.25         2\n",
      "          fine       0.33      0.20      0.25        10\n",
      "         force       0.67      1.00      0.80         2\n",
      "    government       0.75      0.75      0.75         4\n",
      "      grievous       0.45      0.71      0.56         7\n",
      "         hired       0.00      0.00      0.00         8\n",
      "          hurt       0.45      0.71      0.56         7\n",
      "  imprisonment       0.56      0.77      0.65        13\n",
      "   information       0.50      0.57      0.53         7\n",
      "        injury       0.71      0.83      0.77         6\n",
      " intentionally       0.50      0.57      0.53         7\n",
      "        issued       0.75      0.75      0.75         4\n",
      "       kidnaps       1.00      0.25      0.40         4\n",
      "     knowingly       0.75      0.75      0.75         4\n",
      "        lawful       0.71      0.83      0.77         6\n",
      "        liable       0.00      0.00      0.00         8\n",
      "          life       0.45      0.71      0.56         7\n",
      "    magistrate       0.67      1.00      0.80         2\n",
      "        murder       0.00      0.00      0.00         8\n",
      "          navy       0.67      1.00      0.80         2\n",
      "        notice       0.50      0.57      0.53         7\n",
      "       offence       0.43      0.67      0.52         9\n",
      "        office       0.71      0.83      0.77         6\n",
      "         order       0.50      0.57      0.53         7\n",
      "      prisoner       1.00      0.25      0.40         4\n",
      "      property       0.71      0.83      0.77         6\n",
      "   provocation       0.50      0.57      0.53         7\n",
      "        public       0.73      0.85      0.79        13\n",
      "    punishable       0.45      0.71      0.56         7\n",
      "      punished       0.61      0.89      0.72        19\n",
      "     restrains       1.00      0.25      0.40         4\n",
      "        sailor       0.67      1.00      0.80         2\n",
      "          sale       0.71      0.83      0.77         6\n",
      "       section       0.45      0.71      0.56         7\n",
      "       servant       0.73      0.85      0.79        13\n",
      "       soldier       0.67      1.00      0.80         2\n",
      "         stamp       0.75      0.75      0.75         4\n",
      "       suicide       0.00      0.00      0.00         8\n",
      "          term       0.17      0.50      0.25         2\n",
      "         theft       0.00      0.00      0.00         8\n",
      "      unlawful       0.00      0.00      0.00         8\n",
      "           war       0.80      0.50      0.62         8\n",
      "        weapon       0.17      0.50      0.25         2\n",
      "         woman       0.45      0.71      0.56         7\n",
      "    wrongfully       1.00      0.25      0.40         4\n",
      "         years       0.17      0.50      0.25         2\n",
      "\n",
      "     micro avg       0.55      0.56      0.55       407\n",
      "     macro avg       0.54      0.58      0.52       407\n",
      "  weighted avg       0.52      0.56      0.51       407\n",
      "   samples avg       0.55      0.55      0.55       407\n",
      "\n",
      "Wall time: 90.8 ms\n"
     ]
    },
    {
     "name": "stderr",
     "output_type": "stream",
     "text": [
      "C:\\Users\\DK23\\anaconda3\\lib\\site-packages\\sklearn\\metrics\\_classification.py:1248: UndefinedMetricWarning: Precision and F-score are ill-defined and being set to 0.0 in labels with no predicted samples. Use `zero_division` parameter to control this behavior.\n",
      "  _warn_prf(average, modifier, msg_start, len(result))\n"
     ]
    }
   ],
   "source": [
    "%%time\n",
    "# using Label Powerset\n",
    "from skmultilearn.problem_transform import LabelPowerset\n",
    "from sklearn.naive_bayes import GaussianNB\n",
    "\n",
    "# initialize Label Powerset multi-label classifier\n",
    "# with a gaussian naive bayes base classifier\n",
    "classifier_pow = LabelPowerset(GaussianNB())\n",
    "\n",
    "# train\n",
    "classifier_pow.fit(X_train, y_train)\n",
    "\n",
    "# predict\n",
    "predictions = classifier_pow.predict(X_test)\n",
    "\n",
    "#accuracy_score(y_test,predictions)\n",
    "\n",
    "from sklearn.metrics import classification_report\n",
    "\n",
    "print('accuracy %s' % accuracy_score(predictions, y_test))\n",
    "print(classification_report(y_test, predictions,target_names= mlb.classes_))"
   ]
  },
  {
   "cell_type": "code",
   "execution_count": null,
   "id": "53d1e7f4",
   "metadata": {},
   "outputs": [],
   "source": []
  },
  {
   "cell_type": "code",
   "execution_count": 58,
   "id": "34e33bcd",
   "metadata": {},
   "outputs": [
    {
     "data": {
      "text/plain": [
       "0.475"
      ]
     },
     "execution_count": 58,
     "metadata": {},
     "output_type": "execute_result"
    }
   ],
   "source": [
    "# From another sources\n",
    "from sklearn.neighbors import KNeighborsClassifier\n",
    "from sklearn.multiclass import OneVsRestClassifier\n",
    "\n",
    "knnClf = KNeighborsClassifier()\n",
    "\n",
    "knnClf.fit(X_train, y_train)\n",
    "knnPredictions = knnClf.predict(X_test)\n",
    "accuracy_score(y_test,knnPredictions)"
   ]
  },
  {
   "cell_type": "markdown",
   "id": "c28a4c57",
   "metadata": {},
   "source": [
    "# Model Test"
   ]
  },
  {
   "cell_type": "code",
   "execution_count": 51,
   "id": "287c218d",
   "metadata": {},
   "outputs": [],
   "source": [
    "test = ['makes mends performs part process making mending buys sells disposes die instrument purpose used knowing reason believe intended used purpose counterfeiting coin punished imprisonment either description term may extend three years also liable fine']"
   ]
  },
  {
   "cell_type": "code",
   "execution_count": 52,
   "id": "74244e72",
   "metadata": {},
   "outputs": [
    {
     "data": {
      "text/plain": [
       "['makes mends performs part process making mending buys sells disposes die instrument purpose used knowing reason believe intended used purpose counterfeiting coin punished imprisonment either description term may extend three years also liable fine']"
      ]
     },
     "execution_count": 52,
     "metadata": {},
     "output_type": "execute_result"
    }
   ],
   "source": [
    "test"
   ]
  },
  {
   "cell_type": "code",
   "execution_count": 53,
   "id": "acfb1758",
   "metadata": {
    "scrolled": true
   },
   "outputs": [
    {
     "data": {
      "text/plain": [
       "<1x7431 sparse matrix of type '<class 'numpy.float64'>'\n",
       "\twith 82 stored elements in Compressed Sparse Row format>"
      ]
     },
     "execution_count": 53,
     "metadata": {},
     "output_type": "execute_result"
    }
   ],
   "source": [
    "xt = tfidf.transform(test)\n",
    "xt"
   ]
  },
  {
   "cell_type": "code",
   "execution_count": 54,
   "id": "a352e965",
   "metadata": {},
   "outputs": [
    {
     "data": {
      "text/plain": [
       "array([[0, 0, 0, 0, 0, 0, 0, 1, 0, 0, 1, 0, 0, 0, 0, 1, 1, 0, 0, 0, 0, 0,\n",
       "        0, 0, 0, 0, 1, 0, 0, 0, 0, 0, 0, 0, 1, 0, 1, 0, 0, 0, 0, 0, 0, 0,\n",
       "        0, 0, 0, 0, 0, 0, 0, 0, 1, 0, 0, 0, 0, 0, 0, 1, 0, 0, 0, 0, 1, 0,\n",
       "        0, 0, 0]])"
      ]
     },
     "execution_count": 54,
     "metadata": {},
     "output_type": "execute_result"
    }
   ],
   "source": [
    "clf.predict(xt)\n",
    "#classifier_pow.predict(xt)"
   ]
  },
  {
   "cell_type": "code",
   "execution_count": 55,
   "id": "0f455bd7",
   "metadata": {},
   "outputs": [
    {
     "data": {
      "text/plain": [
       "[('bangladesh',\n",
       "  'coin',\n",
       "  'counterfeit',\n",
       "  'counterfeiting',\n",
       "  'government',\n",
       "  'issued',\n",
       "  'knowingly',\n",
       "  'punished',\n",
       "  'stamp',\n",
       "  'war')]"
      ]
     },
     "execution_count": 55,
     "metadata": {},
     "output_type": "execute_result"
    }
   ],
   "source": [
    "#mlb.inverse_transform(classifier_pow.predict(xt))\n",
    "mlb.inverse_transform(clf.predict(xt))"
   ]
  },
  {
   "cell_type": "code",
   "execution_count": 24,
   "id": "7d99e84c",
   "metadata": {},
   "outputs": [],
   "source": [
    "test_data_1 = ['Whoever makes or mends, or performs any part of the process of making or mending, or buys, sells or disposes of, any die or instrument, for the purpose of being used, or knowing or having reason to believe that it is intended to be used, for the purpose of counterfeiting coin, shall be punished with imprisonment of either description for a term which may extend to three years, and shall also be liable to fine. ']"
   ]
  },
  {
   "cell_type": "code",
   "execution_count": 31,
   "id": "c0988fde",
   "metadata": {
    "scrolled": false
   },
   "outputs": [
    {
     "data": {
      "text/plain": [
       "['Whoever makes or mends, or performs any part of the process of making or mending, or buys, sells or disposes of, any die or instrument, for the purpose of being used, or knowing or having reason to believe that it is intended to be used, for the purpose of counterfeiting coin, shall be punished with imprisonment of either description for a term which may extend to three years, and shall also be liable to fine. ']"
      ]
     },
     "execution_count": 31,
     "metadata": {},
     "output_type": "execute_result"
    }
   ],
   "source": [
    "test_data_1"
   ]
  },
  {
   "cell_type": "code",
   "execution_count": 76,
   "id": "b5b944a1",
   "metadata": {},
   "outputs": [
    {
     "data": {
      "text/plain": [
       "[('bangladesh',\n",
       "  'coin',\n",
       "  'counterfeit',\n",
       "  'counterfeiting',\n",
       "  'government',\n",
       "  'issued',\n",
       "  'knowingly',\n",
       "  'punished',\n",
       "  'stamp',\n",
       "  'war')]"
      ]
     },
     "execution_count": 76,
     "metadata": {},
     "output_type": "execute_result"
    }
   ],
   "source": [
    "xt = tfidf.transform(test_data_1)\n",
    "clf.predict(xt)\n",
    "mlb.inverse_transform(clf.predict(xt))"
   ]
  },
  {
   "cell_type": "code",
   "execution_count": 73,
   "id": "a5c7b155",
   "metadata": {},
   "outputs": [],
   "source": [
    "test_data_2 = ['Whoever collects men, arms or ammunition or otherwise prepares to wage war with the intention of either waging or being prepared to wage war against Bangladesh, shall be punished with 2[imprisonment] for life or imprisonment of either description for a term not exceeding ten years, and shall also be liable to fine. ']\n"
   ]
  },
  {
   "cell_type": "code",
   "execution_count": 74,
   "id": "5a34c84e",
   "metadata": {},
   "outputs": [
    {
     "data": {
      "text/plain": [
       "['Whoever collects men, arms or ammunition or otherwise prepares to wage war with the intention of either waging or being prepared to wage war against Bangladesh, shall be punished with 2[imprisonment] for life or imprisonment of either description for a term not exceeding ten years, and shall also be liable to fine. ']"
      ]
     },
     "execution_count": 74,
     "metadata": {},
     "output_type": "execute_result"
    }
   ],
   "source": [
    "test_data_2"
   ]
  },
  {
   "cell_type": "code",
   "execution_count": 75,
   "id": "fb3fbaca",
   "metadata": {
    "scrolled": true
   },
   "outputs": [
    {
     "data": {
      "text/plain": [
       "[('abducts',\n",
       "  'bangladesh',\n",
       "  'confine',\n",
       "  'confinement',\n",
       "  'custody',\n",
       "  'kidnaps',\n",
       "  'prisoner',\n",
       "  'restrains',\n",
       "  'war',\n",
       "  'wrongfully')]"
      ]
     },
     "execution_count": 75,
     "metadata": {},
     "output_type": "execute_result"
    }
   ],
   "source": [
    "xt = tfidf.transform(test_data_2)\n",
    "clf.predict(xt)\n",
    "mlb.inverse_transform(clf.predict(xt))"
   ]
  }
 ],
 "metadata": {
  "kernelspec": {
   "display_name": "Python 3 (ipykernel)",
   "language": "python",
   "name": "python3"
  },
  "language_info": {
   "codemirror_mode": {
    "name": "ipython",
    "version": 3
   },
   "file_extension": ".py",
   "mimetype": "text/x-python",
   "name": "python",
   "nbconvert_exporter": "python",
   "pygments_lexer": "ipython3",
   "version": "3.9.7"
  }
 },
 "nbformat": 4,
 "nbformat_minor": 5
}
