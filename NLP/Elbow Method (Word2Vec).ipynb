{
 "cells": [
  {
   "cell_type": "markdown",
   "id": "56f6765e",
   "metadata": {},
   "source": [
    "## Import the data"
   ]
  },
  {
   "cell_type": "code",
   "execution_count": 1,
   "id": "9a3a733e",
   "metadata": {},
   "outputs": [
    {
     "name": "stderr",
     "output_type": "stream",
     "text": [
      "[nltk_data] Downloading package punkt to\n",
      "[nltk_data]     C:\\Users\\DK23\\AppData\\Roaming\\nltk_data...\n",
      "[nltk_data]   Package punkt is already up-to-date!\n"
     ]
    }
   ],
   "source": [
    "import pandas as pd\n",
    "import numpy as np\n",
    "\n",
    "import re\n",
    "import nltk\n",
    "nltk.download('punkt')\n",
    "import string\n",
    "from nltk.tokenize import word_tokenize\n",
    "from nltk.corpus import stopwords\n",
    "from nltk.stem.porter import PorterStemmer"
   ]
  },
  {
   "cell_type": "markdown",
   "id": "8556aa57",
   "metadata": {},
   "source": [
    "## Loading data"
   ]
  },
  {
   "cell_type": "code",
   "execution_count": 2,
   "id": "64154001",
   "metadata": {
    "scrolled": true
   },
   "outputs": [
    {
     "data": {
      "text/html": [
       "<div>\n",
       "<style scoped>\n",
       "    .dataframe tbody tr th:only-of-type {\n",
       "        vertical-align: middle;\n",
       "    }\n",
       "\n",
       "    .dataframe tbody tr th {\n",
       "        vertical-align: top;\n",
       "    }\n",
       "\n",
       "    .dataframe thead th {\n",
       "        text-align: right;\n",
       "    }\n",
       "</style>\n",
       "<table border=\"1\" class=\"dataframe\">\n",
       "  <thead>\n",
       "    <tr style=\"text-align: right;\">\n",
       "      <th></th>\n",
       "      <th>Title</th>\n",
       "      <th>Content</th>\n",
       "    </tr>\n",
       "  </thead>\n",
       "  <tbody>\n",
       "    <tr>\n",
       "      <th>0</th>\n",
       "      <td>punishment crimes committed substance susch co...</td>\n",
       "      <td>person kills attempts cause death child woman ...</td>\n",
       "    </tr>\n",
       "    <tr>\n",
       "      <th>1</th>\n",
       "      <td>punishment abduction wimen children</td>\n",
       "      <td>person human trafficking prevention suppressio...</td>\n",
       "    </tr>\n",
       "    <tr>\n",
       "      <th>2</th>\n",
       "      <td>punishment ransom</td>\n",
       "      <td>person detains woman child ransom person shall...</td>\n",
       "    </tr>\n",
       "    <tr>\n",
       "      <th>3</th>\n",
       "      <td>punishment rapem death due rape</td>\n",
       "      <td>man rapes woman child shall punishable death p...</td>\n",
       "    </tr>\n",
       "    <tr>\n",
       "      <th>4</th>\n",
       "      <td>punishment inciting women commit suicide</td>\n",
       "      <td>woman commits suicide without consent woman pe...</td>\n",
       "    </tr>\n",
       "    <tr>\n",
       "      <th>...</th>\n",
       "      <td>...</td>\n",
       "      <td>...</td>\n",
       "    </tr>\n",
       "    <tr>\n",
       "      <th>195</th>\n",
       "      <td>adulteration food drink intended sale</td>\n",
       "      <td>whoever adulterates article food drink make ar...</td>\n",
       "    </tr>\n",
       "    <tr>\n",
       "      <th>196</th>\n",
       "      <td>punishment theft</td>\n",
       "      <td>whoever commits theft shall punished imprisonm...</td>\n",
       "    </tr>\n",
       "    <tr>\n",
       "      <th>197</th>\n",
       "      <td>theft dwellinghouse etc</td>\n",
       "      <td>whoever commits theft building tent vessel bui...</td>\n",
       "    </tr>\n",
       "    <tr>\n",
       "      <th>198</th>\n",
       "      <td>theft preparation made causing death hurt rest...</td>\n",
       "      <td>whoever commits theft made preparation causing...</td>\n",
       "    </tr>\n",
       "    <tr>\n",
       "      <th>199</th>\n",
       "      <td>theft clerk servant property possession master</td>\n",
       "      <td>whoever clerk servant employed capacity clerk ...</td>\n",
       "    </tr>\n",
       "  </tbody>\n",
       "</table>\n",
       "<p>200 rows × 2 columns</p>\n",
       "</div>"
      ],
      "text/plain": [
       "                                                 Title  \\\n",
       "0    punishment crimes committed substance susch co...   \n",
       "1                  punishment abduction wimen children   \n",
       "2                                    punishment ransom   \n",
       "3                      punishment rapem death due rape   \n",
       "4             punishment inciting women commit suicide   \n",
       "..                                                 ...   \n",
       "195              adulteration food drink intended sale   \n",
       "196                                   punishment theft   \n",
       "197                            theft dwellinghouse etc   \n",
       "198  theft preparation made causing death hurt rest...   \n",
       "199     theft clerk servant property possession master   \n",
       "\n",
       "                                               Content  \n",
       "0    person kills attempts cause death child woman ...  \n",
       "1    person human trafficking prevention suppressio...  \n",
       "2    person detains woman child ransom person shall...  \n",
       "3    man rapes woman child shall punishable death p...  \n",
       "4    woman commits suicide without consent woman pe...  \n",
       "..                                                 ...  \n",
       "195  whoever adulterates article food drink make ar...  \n",
       "196  whoever commits theft shall punished imprisonm...  \n",
       "197  whoever commits theft building tent vessel bui...  \n",
       "198  whoever commits theft made preparation causing...  \n",
       "199  whoever clerk servant employed capacity clerk ...  \n",
       "\n",
       "[200 rows x 2 columns]"
      ]
     },
     "execution_count": 2,
     "metadata": {},
     "output_type": "execute_result"
    }
   ],
   "source": [
    "data = pd.read_csv('E:\\Final_Data.csv', index_col=0)\n",
    "data\n",
    "#data.info()"
   ]
  },
  {
   "cell_type": "markdown",
   "id": "c275329e",
   "metadata": {},
   "source": [
    "## Removing whoever"
   ]
  },
  {
   "cell_type": "code",
   "execution_count": 3,
   "id": "614d7994",
   "metadata": {},
   "outputs": [],
   "source": [
    "def clean_whoever(x):\n",
    "    x = str(x).replace('whoever ', '')\n",
    "    return x"
   ]
  },
  {
   "cell_type": "code",
   "execution_count": 4,
   "id": "8b759bee",
   "metadata": {},
   "outputs": [],
   "source": [
    "data['Content'] = data['Content'].apply(lambda x: clean_whoever(x))"
   ]
  },
  {
   "cell_type": "code",
   "execution_count": 10,
   "id": "074f6c7d",
   "metadata": {},
   "outputs": [
    {
     "data": {
      "text/html": [
       "<div>\n",
       "<style scoped>\n",
       "    .dataframe tbody tr th:only-of-type {\n",
       "        vertical-align: middle;\n",
       "    }\n",
       "\n",
       "    .dataframe tbody tr th {\n",
       "        vertical-align: top;\n",
       "    }\n",
       "\n",
       "    .dataframe thead th {\n",
       "        text-align: right;\n",
       "    }\n",
       "</style>\n",
       "<table border=\"1\" class=\"dataframe\">\n",
       "  <thead>\n",
       "    <tr style=\"text-align: right;\">\n",
       "      <th></th>\n",
       "      <th>Title</th>\n",
       "      <th>Content</th>\n",
       "    </tr>\n",
       "  </thead>\n",
       "  <tbody>\n",
       "    <tr>\n",
       "      <th>0</th>\n",
       "      <td>punishment crimes committed substance susch co...</td>\n",
       "      <td>person kills attempts cause death child woman ...</td>\n",
       "    </tr>\n",
       "    <tr>\n",
       "      <th>1</th>\n",
       "      <td>punishment abduction wimen children</td>\n",
       "      <td>person human trafficking prevention suppressio...</td>\n",
       "    </tr>\n",
       "    <tr>\n",
       "      <th>2</th>\n",
       "      <td>punishment ransom</td>\n",
       "      <td>person detains woman child ransom person shall...</td>\n",
       "    </tr>\n",
       "    <tr>\n",
       "      <th>3</th>\n",
       "      <td>punishment rapem death due rape</td>\n",
       "      <td>man rapes woman child shall punishable death p...</td>\n",
       "    </tr>\n",
       "    <tr>\n",
       "      <th>4</th>\n",
       "      <td>punishment inciting women commit suicide</td>\n",
       "      <td>woman commits suicide without consent woman pe...</td>\n",
       "    </tr>\n",
       "    <tr>\n",
       "      <th>...</th>\n",
       "      <td>...</td>\n",
       "      <td>...</td>\n",
       "    </tr>\n",
       "    <tr>\n",
       "      <th>195</th>\n",
       "      <td>adulteration food drink intended sale</td>\n",
       "      <td>adulterates article food drink make article no...</td>\n",
       "    </tr>\n",
       "    <tr>\n",
       "      <th>196</th>\n",
       "      <td>punishment theft</td>\n",
       "      <td>commits theft shall punished imprisonment eith...</td>\n",
       "    </tr>\n",
       "    <tr>\n",
       "      <th>197</th>\n",
       "      <td>theft dwellinghouse etc</td>\n",
       "      <td>commits theft building tent vessel building te...</td>\n",
       "    </tr>\n",
       "    <tr>\n",
       "      <th>198</th>\n",
       "      <td>theft preparation made causing death hurt rest...</td>\n",
       "      <td>commits theft made preparation causing death h...</td>\n",
       "    </tr>\n",
       "    <tr>\n",
       "      <th>199</th>\n",
       "      <td>theft clerk servant property possession master</td>\n",
       "      <td>clerk servant employed capacity clerk servant ...</td>\n",
       "    </tr>\n",
       "  </tbody>\n",
       "</table>\n",
       "<p>200 rows × 2 columns</p>\n",
       "</div>"
      ],
      "text/plain": [
       "                                                 Title  \\\n",
       "0    punishment crimes committed substance susch co...   \n",
       "1                  punishment abduction wimen children   \n",
       "2                                    punishment ransom   \n",
       "3                      punishment rapem death due rape   \n",
       "4             punishment inciting women commit suicide   \n",
       "..                                                 ...   \n",
       "195              adulteration food drink intended sale   \n",
       "196                                   punishment theft   \n",
       "197                            theft dwellinghouse etc   \n",
       "198  theft preparation made causing death hurt rest...   \n",
       "199     theft clerk servant property possession master   \n",
       "\n",
       "                                               Content  \n",
       "0    person kills attempts cause death child woman ...  \n",
       "1    person human trafficking prevention suppressio...  \n",
       "2    person detains woman child ransom person shall...  \n",
       "3    man rapes woman child shall punishable death p...  \n",
       "4    woman commits suicide without consent woman pe...  \n",
       "..                                                 ...  \n",
       "195  adulterates article food drink make article no...  \n",
       "196  commits theft shall punished imprisonment eith...  \n",
       "197  commits theft building tent vessel building te...  \n",
       "198  commits theft made preparation causing death h...  \n",
       "199  clerk servant employed capacity clerk servant ...  \n",
       "\n",
       "[200 rows x 2 columns]"
      ]
     },
     "execution_count": 10,
     "metadata": {},
     "output_type": "execute_result"
    }
   ],
   "source": [
    "data"
   ]
  },
  {
   "cell_type": "markdown",
   "id": "fa6a671f",
   "metadata": {},
   "source": [
    "## Import for W2V"
   ]
  },
  {
   "cell_type": "code",
   "execution_count": 5,
   "id": "514d4975",
   "metadata": {},
   "outputs": [],
   "source": [
    "import pandas as pd\n",
    "import gensim\n",
    "import numpy as np\n",
    "from sklearn.cluster import MiniBatchKMeans\n",
    "from sklearn.metrics import silhouette_samples, silhouette_score\n",
    "\n",
    "import os\n",
    "import random\n",
    "import re\n",
    "import string\n",
    "\n",
    "import nltk\n",
    "import numpy as np\n",
    "import pandas as pd\n",
    "\n",
    "from gensim.models import Word2Vec\n",
    "\n",
    "from nltk import word_tokenize\n",
    "from nltk.corpus import stopwords\n",
    "\n",
    "from sklearn.cluster import MiniBatchKMeans\n",
    "from sklearn.metrics import silhouette_samples, silhouette_score"
   ]
  },
  {
   "cell_type": "markdown",
   "id": "295b5693",
   "metadata": {},
   "source": [
    "## TBD"
   ]
  },
  {
   "cell_type": "code",
   "execution_count": 6,
   "id": "c49e28a6",
   "metadata": {},
   "outputs": [
    {
     "data": {
      "text/plain": [
       "0      [person, kills, attempts, cause, death, child,...\n",
       "1      [person, human, trafficking, prevention, suppr...\n",
       "2      [person, detains, woman, child, ransom, person...\n",
       "3      [man, rapes, woman, child, shall, punishable, ...\n",
       "4      [woman, commits, suicide, without, consent, wo...\n",
       "                             ...                        \n",
       "195    [adulterates, article, food, drink, make, arti...\n",
       "196    [commits, theft, shall, punished, imprisonment...\n",
       "197    [commits, theft, building, tent, vessel, build...\n",
       "198    [commits, theft, made, preparation, causing, d...\n",
       "199    [clerk, servant, employed, capacity, clerk, se...\n",
       "Name: Content, Length: 200, dtype: object"
      ]
     },
     "execution_count": 6,
     "metadata": {},
     "output_type": "execute_result"
    }
   ],
   "source": [
    "data_set = data.Content.apply(gensim.utils.simple_preprocess)\n",
    "data_set"
   ]
  },
  {
   "cell_type": "markdown",
   "id": "438a847e",
   "metadata": {},
   "source": [
    "## W2V"
   ]
  },
  {
   "cell_type": "code",
   "execution_count": 7,
   "id": "2c678ce1",
   "metadata": {},
   "outputs": [],
   "source": [
    "from gensim.models import Word2Vec\n",
    "model = Word2Vec(sentences=data_set, vector_size=100, workers=1, seed=25)"
   ]
  },
  {
   "cell_type": "markdown",
   "id": "04902bd9",
   "metadata": {},
   "source": [
    "## Testing W2V"
   ]
  },
  {
   "cell_type": "code",
   "execution_count": 8,
   "id": "4a9c4b09",
   "metadata": {},
   "outputs": [
    {
     "data": {
      "text/plain": [
       "[('order', 0.9992693662643433),\n",
       " ('section', 0.9992598295211792),\n",
       " ('shall', 0.9992567300796509),\n",
       " ('person', 0.9991907477378845),\n",
       " ('not', 0.9991630911827087),\n",
       " ('public', 0.9991371631622314),\n",
       " ('knows', 0.9991245865821838),\n",
       " ('purpose', 0.9991223812103271),\n",
       " ('property', 0.9991046190261841),\n",
       " ('servant', 0.9990956783294678)]"
      ]
     },
     "execution_count": 8,
     "metadata": {},
     "output_type": "execute_result"
    }
   ],
   "source": [
    "model.wv.most_similar(\"child\")\n",
    "#model.wv.similarity(w1=\"woman\", w2=\"child\")"
   ]
  },
  {
   "cell_type": "markdown",
   "id": "b0f25d18",
   "metadata": {},
   "source": [
    "## W2V model"
   ]
  },
  {
   "cell_type": "code",
   "execution_count": 9,
   "id": "60f7b104",
   "metadata": {},
   "outputs": [
    {
     "data": {
      "text/plain": [
       "(200, 100)"
      ]
     },
     "execution_count": 9,
     "metadata": {},
     "output_type": "execute_result"
    }
   ],
   "source": [
    "def vectorize(list_of_docs, model):\n",
    "    \"\"\"Generate vectors for list of documents using a Word Embedding\n",
    "\n",
    "    Args:\n",
    "        list_of_docs: List of documents\n",
    "        model: Gensim's Word Embedding\n",
    "\n",
    "    Returns:\n",
    "        List of document vectors\n",
    "    \"\"\"\n",
    "    features = []\n",
    "\n",
    "    for tokens in list_of_docs:\n",
    "        zero_vector = np.zeros(model.vector_size)\n",
    "        vectors = []\n",
    "        for token in tokens:\n",
    "            if token in model.wv:\n",
    "                try:\n",
    "                    vectors.append(model.wv[token])\n",
    "                except KeyError:\n",
    "                    continue\n",
    "        if vectors:\n",
    "            vectors = np.asarray(vectors)\n",
    "            avg_vec = vectors.mean(axis=0)\n",
    "            features.append(avg_vec)\n",
    "        else:\n",
    "            features.append(zero_vector)\n",
    "    return features\n",
    "    \n",
    "vectorized_docs = vectorize(data_set, model=model)\n",
    "len(vectorized_docs), len(vectorized_docs[0])"
   ]
  },
  {
   "cell_type": "markdown",
   "id": "50df83fd",
   "metadata": {},
   "source": [
    "## Checking the optimal number of cluster"
   ]
  },
  {
   "cell_type": "code",
   "execution_count": 25,
   "id": "27b37573",
   "metadata": {},
   "outputs": [
    {
     "name": "stderr",
     "output_type": "stream",
     "text": [
      "C:\\Users\\DK23\\anaconda3\\lib\\site-packages\\sklearn\\cluster\\_kmeans.py:881: UserWarning: KMeans is known to have a memory leak on Windows with MKL, when there are less chunks than available threads. You can avoid it by setting the environment variable OMP_NUM_THREADS=1.\n",
      "  warnings.warn(\n"
     ]
    }
   ],
   "source": [
    "from sklearn.cluster import KMeans\n",
    "\n",
    "Sum_of_squared_distances = []\n",
    "K = range(1,50)\n",
    "for k in K:\n",
    "    km = KMeans(n_clusters=k)\n",
    "    km = km.fit(vectorized_docs)\n",
    "    Sum_of_squared_distances.append(km.inertia_)"
   ]
  },
  {
   "cell_type": "markdown",
   "id": "5aa86e03",
   "metadata": {},
   "source": [
    "## Ploting the figure"
   ]
  },
  {
   "cell_type": "code",
   "execution_count": 26,
   "id": "f0ef5357",
   "metadata": {},
   "outputs": [
    {
     "data": {
      "image/png": "[encoded data removed]",
      "text/plain": [
       "<Figure size 432x288 with 1 Axes>"
      ]
     },
     "metadata": {
      "needs_background": "light"
     },
     "output_type": "display_data"
    }
   ],
   "source": [
    "import matplotlib.pyplot as plt\n",
    "\n",
    "plt.plot(K, Sum_of_squared_distances, marker='o')\n",
    "plt.xlabel('k')\n",
    "plt.ylabel('Sum_of_squared_distances')\n",
    "plt.title('Elbow Method For Optimal k')\n",
    "plt.show()"
   ]
  },
  {
   "cell_type": "markdown",
   "id": "7002b22d",
   "metadata": {},
   "source": [
    "## K-mean Cluster"
   ]
  },
  {
   "cell_type": "code",
   "execution_count": 31,
   "id": "e18d7671",
   "metadata": {},
   "outputs": [],
   "source": [
    "def mbkmeans_clusters(\n",
    "\tX, \n",
    "    k, \n",
    "    mb, \n",
    "    print_silhouette_values, \n",
    "):\n",
    "    \"\"\"Generate clusters and print Silhouette metrics using MBKmeans\n",
    "\n",
    "    Args:\n",
    "        X: Matrix of features.\n",
    "        k: Number of clusters.\n",
    "        mb: Size of mini-batches.\n",
    "        print_silhouette_values: Print silhouette values per cluster.\n",
    "\n",
    "    Returns:\n",
    "        Trained clustering model and labels based on X.\n",
    "    \"\"\"\n",
    "    km = MiniBatchKMeans(n_clusters=k, batch_size=mb).fit(X)\n",
    "    print(f\"For n_clusters = {k}\")\n",
    "    print(f\"Silhouette coefficient: {silhouette_score(X, km.labels_):0.2f}\")\n",
    "    print(f\"Inertia:{km.inertia_}\")\n",
    "\n",
    "    if print_silhouette_values:\n",
    "        sample_silhouette_values = silhouette_samples(X, km.labels_)\n",
    "        print(f\"Silhouette values:\")\n",
    "        silhouette_values = []\n",
    "        for i in range(k):\n",
    "            cluster_silhouette_values = sample_silhouette_values[km.labels_ == i]\n",
    "            silhouette_values.append(\n",
    "                (\n",
    "                    i,\n",
    "                    cluster_silhouette_values.shape[0],\n",
    "                    cluster_silhouette_values.mean(),\n",
    "                    cluster_silhouette_values.min(),\n",
    "                    cluster_silhouette_values.max(),\n",
    "                )\n",
    "            )\n",
    "        silhouette_values = sorted(\n",
    "            silhouette_values, key=lambda tup: tup[2], reverse=True\n",
    "        )\n",
    "        for s in silhouette_values:\n",
    "            print(\n",
    "                f\"    Cluster {s[0]}: Size:{s[1]} | Avg:{s[2]:.2f} | Min:{s[3]:.2f} | Max: {s[4]:.2f}\"\n",
    "            )\n",
    "    return km, km.labels_"
   ]
  },
  {
   "cell_type": "markdown",
   "id": "0ae3ecae",
   "metadata": {},
   "source": [
    "## Results"
   ]
  },
  {
   "cell_type": "code",
   "execution_count": 33,
   "id": "9b5ede99",
   "metadata": {},
   "outputs": [
    {
     "name": "stdout",
     "output_type": "stream",
     "text": [
      "For n_clusters = 7\n",
      "Silhouette coefficient: 0.47\n",
      "Inertia:0.17854864887382424\n",
      "Silhouette values:\n",
      "    Cluster 5: Size:7 | Avg:0.53 | Min:0.18 | Max: 0.67\n",
      "    Cluster 1: Size:27 | Avg:0.52 | Min:0.09 | Max: 0.69\n",
      "    Cluster 0: Size:44 | Avg:0.51 | Min:-0.07 | Max: 0.70\n",
      "    Cluster 3: Size:28 | Avg:0.46 | Min:-0.11 | Max: 0.65\n",
      "    Cluster 6: Size:35 | Avg:0.44 | Min:0.07 | Max: 0.68\n",
      "    Cluster 2: Size:55 | Avg:0.44 | Min:0.04 | Max: 0.68\n",
      "    Cluster 4: Size:4 | Avg:0.30 | Min:0.08 | Max: 0.56\n"
     ]
    },
    {
     "name": "stderr",
     "output_type": "stream",
     "text": [
      "C:\\Users\\DK23\\anaconda3\\lib\\site-packages\\sklearn\\cluster\\_kmeans.py:887: UserWarning: MiniBatchKMeans is known to have a memory leak on Windows with MKL, when there are less chunks than available threads. You can prevent it by setting batch_size >= 2048 or by setting the environment variable OMP_NUM_THREADS=2\n",
      "  warnings.warn(\n"
     ]
    }
   ],
   "source": [
    "clustering, cluster_labels = mbkmeans_clusters(\n",
    "\tX=vectorized_docs,\n",
    "    k=7,\n",
    "    mb=500,\n",
    "    print_silhouette_values=True,\n",
    ")\n",
    "df_clusters = pd.DataFrame({\n",
    "    \"text\": \"docs\",\n",
    "    \"tokens\": [\" \".join(text) for text in data_set],\n",
    "    \"cluster\": cluster_labels\n",
    "})"
   ]
  },
  {
   "cell_type": "markdown",
   "id": "c610f575",
   "metadata": {},
   "source": [
    "## Data Labels"
   ]
  },
  {
   "cell_type": "code",
   "execution_count": 39,
   "id": "ffcfb4fd",
   "metadata": {},
   "outputs": [
    {
     "name": "stdout",
     "output_type": "stream",
     "text": [
      "Most representative terms per cluster (based on centroids):\n",
      "Cluster 0: shall person section not servant order purpose knows may knowing \n",
      "Cluster 1: person shall section servant purpose not order knows public knowing \n",
      "Cluster 2: shall person section servant not purpose order knows may knowing \n",
      "Cluster 3: shall person section not servant order purpose knows knowing public \n",
      "Cluster 4: person shall section not purpose servant knows order knowing used \n",
      "Cluster 5: person shall servant section public purpose not knows order knowing \n",
      "Cluster 6: shall person section not servant order purpose knows may public \n"
     ]
    }
   ],
   "source": [
    "print(\"Most representative terms per cluster (based on centroids):\")\n",
    "for i in range(7):\n",
    "    tokens_per_cluster = \"\"\n",
    "    most_representative = model.wv.most_similar(positive=[clustering.cluster_centers_[i]], topn=10)\n",
    "    for t in most_representative:\n",
    "        tokens_per_cluster += f\"{t[0]} \"\n",
    "    print(f\"Cluster {i}: {tokens_per_cluster}\")"
   ]
  },
  {
   "cell_type": "code",
   "execution_count": 1,
   "id": "be834cb4",
   "metadata": {},
   "outputs": [],
   "source": [
    "#df_clusters"
   ]
  },
  {
   "cell_type": "code",
   "execution_count": null,
   "id": "2be1f934",
   "metadata": {},
   "outputs": [],
   "source": []
  }
 ],
 "metadata": {
  "kernelspec": {
   "display_name": "Python 3 (ipykernel)",
   "language": "python",
   "name": "python3"
  },
  "language_info": {
   "codemirror_mode": {
    "name": "ipython",
    "version": 3
   },
   "file_extension": ".py",
   "mimetype": "text/x-python",
   "name": "python",
   "nbconvert_exporter": "python",
   "pygments_lexer": "ipython3",
   "version": "3.9.7"
  }
 },
 "nbformat": 4,
 "nbformat_minor": 5
}
