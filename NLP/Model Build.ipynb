{
 "cells": [
  {
   "cell_type": "code",
   "execution_count": 1,
   "id": "ea7d7779",
   "metadata": {},
   "outputs": [],
   "source": [
    "from sklearn.feature_extraction.text import TfidfVectorizer\n",
    "from sklearn.preprocessing import MultiLabelBinarizer\n",
    "from sklearn.model_selection import train_test_split\n",
    "\n",
    "from sklearn.linear_model import SGDClassifier\n",
    "from sklearn.linear_model import LogisticRegression\n",
    "from sklearn.svm import LinearSVC\n",
    "\n",
    "from sklearn.multiclass import OneVsRestClassifier"
   ]
  },
  {
   "cell_type": "code",
   "execution_count": 2,
   "id": "a0550b3c",
   "metadata": {},
   "outputs": [],
   "source": [
    "import pandas as pd\n",
    "import numpy as np\n",
    "\n",
    "data = pd.read_csv('E:\\Labeled Data.csv')\n",
    "#data['Content'][3]\n",
    "#data.info()"
   ]
  },
  {
   "cell_type": "code",
   "execution_count": 4,
   "id": "01933e9b",
   "metadata": {},
   "outputs": [
    {
     "data": {
      "text/html": [
       "<div>\n",
       "<style scoped>\n",
       "    .dataframe tbody tr th:only-of-type {\n",
       "        vertical-align: middle;\n",
       "    }\n",
       "\n",
       "    .dataframe tbody tr th {\n",
       "        vertical-align: top;\n",
       "    }\n",
       "\n",
       "    .dataframe thead th {\n",
       "        text-align: right;\n",
       "    }\n",
       "</style>\n",
       "<table border=\"1\" class=\"dataframe\">\n",
       "  <thead>\n",
       "    <tr style=\"text-align: right;\">\n",
       "      <th></th>\n",
       "      <th>Serial No</th>\n",
       "      <th>Title</th>\n",
       "      <th>Content</th>\n",
       "      <th>Tags</th>\n",
       "    </tr>\n",
       "  </thead>\n",
       "  <tbody>\n",
       "    <tr>\n",
       "      <th>0</th>\n",
       "      <td>0</td>\n",
       "      <td>punishment crimes committed substance susch co...</td>\n",
       "      <td>kills attempts cause death child woman burning...</td>\n",
       "      <td>[child, woman, death, hurt, imprisonment, sect...</td>\n",
       "    </tr>\n",
       "    <tr>\n",
       "      <th>1</th>\n",
       "      <td>1</td>\n",
       "      <td>punishment abduction wimen children</td>\n",
       "      <td>human trafficking prevention suppression act a...</td>\n",
       "      <td>[child, woman, death, hurt, imprisonment, sect...</td>\n",
       "    </tr>\n",
       "    <tr>\n",
       "      <th>2</th>\n",
       "      <td>2</td>\n",
       "      <td>punishment ransom</td>\n",
       "      <td>detains woman child ransom liable death life i...</td>\n",
       "      <td>[child, woman, death, hurt, imprisonment, sect...</td>\n",
       "    </tr>\n",
       "    <tr>\n",
       "      <th>3</th>\n",
       "      <td>3</td>\n",
       "      <td>punishment rapem death due rape</td>\n",
       "      <td>man rapes woman child punishable death penalty...</td>\n",
       "      <td>[child, woman, death, hurt, imprisonment, sect...</td>\n",
       "    </tr>\n",
       "    <tr>\n",
       "      <th>4</th>\n",
       "      <td>4</td>\n",
       "      <td>punishment inciting women commit suicide</td>\n",
       "      <td>woman commits suicide without consent woman du...</td>\n",
       "      <td>[child, woman, death, hurt, imprisonment, sect...</td>\n",
       "    </tr>\n",
       "  </tbody>\n",
       "</table>\n",
       "</div>"
      ],
      "text/plain": [
       "   Serial No                                              Title  \\\n",
       "0          0  punishment crimes committed substance susch co...   \n",
       "1          1                punishment abduction wimen children   \n",
       "2          2                                  punishment ransom   \n",
       "3          3                    punishment rapem death due rape   \n",
       "4          4           punishment inciting women commit suicide   \n",
       "\n",
       "                                             Content  \\\n",
       "0  kills attempts cause death child woman burning...   \n",
       "1  human trafficking prevention suppression act a...   \n",
       "2  detains woman child ransom liable death life i...   \n",
       "3  man rapes woman child punishable death penalty...   \n",
       "4  woman commits suicide without consent woman du...   \n",
       "\n",
       "                                                Tags  \n",
       "0  [child, woman, death, hurt, imprisonment, sect...  \n",
       "1  [child, woman, death, hurt, imprisonment, sect...  \n",
       "2  [child, woman, death, hurt, imprisonment, sect...  \n",
       "3  [child, woman, death, hurt, imprisonment, sect...  \n",
       "4  [child, woman, death, hurt, imprisonment, sect...  "
      ]
     },
     "execution_count": 4,
     "metadata": {},
     "output_type": "execute_result"
    }
   ],
   "source": [
    "data['Tags'] = data['Tokens'].str.split(',\\s*')\n",
    "data = data.drop(data.columns[3],axis=1)\n",
    "data.head()"
   ]
  },
  {
   "cell_type": "code",
   "execution_count": 5,
   "id": "a161f536",
   "metadata": {},
   "outputs": [
    {
     "data": {
      "text/plain": [
       "list"
      ]
     },
     "execution_count": 5,
     "metadata": {},
     "output_type": "execute_result"
    }
   ],
   "source": [
    "import ast\n",
    "type(data['Tags'].iloc[0])"
   ]
  },
  {
   "cell_type": "code",
   "execution_count": 6,
   "id": "3bffe29c",
   "metadata": {},
   "outputs": [
    {
     "data": {
      "text/plain": [
       "MultiLabelBinarizer()"
      ]
     },
     "execution_count": 6,
     "metadata": {},
     "output_type": "execute_result"
    }
   ],
   "source": [
    "mlb = MultiLabelBinarizer()\n",
    "mlb.fit(data['Tags'])"
   ]
  },
  {
   "cell_type": "code",
   "execution_count": 7,
   "id": "8ded487d",
   "metadata": {},
   "outputs": [
    {
     "data": {
      "text/plain": [
       "array(['abducts', 'abetment', 'air', 'armed', 'army', 'assault',\n",
       "       'assembly', 'bangladesh', 'certificate', 'child', 'coin',\n",
       "       'commission', 'confine', 'confinement', 'convicted', 'counterfeit',\n",
       "       'counterfeiting', 'court', 'custody', 'death', 'duty', 'egally',\n",
       "       'engaged', 'evidence', 'fine', 'force', 'government', 'grievous',\n",
       "       'hired', 'hurt', 'imprisonment', 'information', 'injury',\n",
       "       'intentionally', 'issued', 'kidnaps', 'knowingly', 'lawful',\n",
       "       'liable', 'life', 'magistrate', 'murder', 'navy', 'notice',\n",
       "       'offence', 'office', 'order', 'prisoner', 'property',\n",
       "       'provocation', 'public', 'punishable', 'punished', 'restrains',\n",
       "       'sailor', 'sale', 'section', 'servant', 'soldier', 'stamp',\n",
       "       'suicide', 'term', 'theft', 'unlawful', 'war', 'weapon', 'woman',\n",
       "       'wrongfully', 'years'], dtype=object)"
      ]
     },
     "execution_count": 7,
     "metadata": {},
     "output_type": "execute_result"
    }
   ],
   "source": [
    "mlb.classes_"
   ]
  },
  {
   "cell_type": "code",
   "execution_count": 8,
   "id": "78328208",
   "metadata": {},
   "outputs": [
    {
     "data": {
      "text/plain": [
       "array(['child', 'woman', 'death', 'hurt', 'imprisonment', 'section',\n",
       "       'punished', 'life', 'grievous', 'punishable', 'coin', 'bangladesh',\n",
       "       'counterfeiting', 'war', 'stamp', 'issued', 'government',\n",
       "       'counterfeit', 'knowingly', 'offence', 'evidence', 'convicted',\n",
       "       'weapon', 'years', 'fine', 'certificate', 'term', 'armed', 'theft',\n",
       "       'assembly', 'suicide', 'unlawful', 'engaged', 'liable', 'murder',\n",
       "       'hired', 'egally', 'notice', 'order', 'public', 'servant',\n",
       "       'intentionally', 'information', 'provocation', 'commission',\n",
       "       'court', 'property', 'duty', 'injury', 'lawful', 'office', 'sale',\n",
       "       'sailor', 'soldier', 'air', 'navy', 'army', 'force', 'assault',\n",
       "       'abetment', 'magistrate', 'wrongfully', 'prisoner', 'confine',\n",
       "       'kidnaps', 'confinement', 'abducts', 'restrains', 'custody'],\n",
       "      dtype=object)"
      ]
     },
     "execution_count": 8,
     "metadata": {},
     "output_type": "execute_result"
    }
   ],
   "source": [
    "data['Tags'].explode().unique()"
   ]
  },
  {
   "cell_type": "code",
   "execution_count": 9,
   "id": "1b59fdfe",
   "metadata": {},
   "outputs": [
    {
     "data": {
      "text/plain": [
       "array(['abducts', 'abetment', 'air', 'armed', 'army', 'assault',\n",
       "       'assembly', 'bangladesh', 'certificate', 'child', 'coin',\n",
       "       'commission', 'confine', 'confinement', 'convicted', 'counterfeit',\n",
       "       'counterfeiting', 'court', 'custody', 'death', 'duty', 'egally',\n",
       "       'engaged', 'evidence', 'fine', 'force', 'government', 'grievous',\n",
       "       'hired', 'hurt', 'imprisonment', 'information', 'injury',\n",
       "       'intentionally', 'issued', 'kidnaps', 'knowingly', 'lawful',\n",
       "       'liable', 'life', 'magistrate', 'murder', 'navy', 'notice',\n",
       "       'offence', 'office', 'order', 'prisoner', 'property',\n",
       "       'provocation', 'public', 'punishable', 'punished', 'restrains',\n",
       "       'sailor', 'sale', 'section', 'servant', 'soldier', 'stamp',\n",
       "       'suicide', 'term', 'theft', 'unlawful', 'war', 'weapon', 'woman',\n",
       "       'wrongfully', 'years'], dtype=object)"
      ]
     },
     "execution_count": 9,
     "metadata": {},
     "output_type": "execute_result"
    }
   ],
   "source": [
    "(pd.Series(data['Tags'].explode().unique()).sort_values()).to_numpy()"
   ]
  },
  {
   "cell_type": "code",
   "execution_count": 11,
   "id": "5640890f",
   "metadata": {},
   "outputs": [],
   "source": [
    "y = mlb.fit_transform(data['Tags'])\n",
    "#y\n",
    "#mlb.classes_"
   ]
  },
  {
   "cell_type": "code",
   "execution_count": 14,
   "id": "4ed7eab6",
   "metadata": {},
   "outputs": [
    {
     "data": {
      "text/html": [
       "<div>\n",
       "<style scoped>\n",
       "    .dataframe tbody tr th:only-of-type {\n",
       "        vertical-align: middle;\n",
       "    }\n",
       "\n",
       "    .dataframe tbody tr th {\n",
       "        vertical-align: top;\n",
       "    }\n",
       "\n",
       "    .dataframe thead th {\n",
       "        text-align: right;\n",
       "    }\n",
       "</style>\n",
       "<table border=\"1\" class=\"dataframe\">\n",
       "  <thead>\n",
       "    <tr style=\"text-align: right;\">\n",
       "      <th></th>\n",
       "      <th>abducts</th>\n",
       "      <th>abetment</th>\n",
       "      <th>air</th>\n",
       "      <th>armed</th>\n",
       "      <th>army</th>\n",
       "      <th>assault</th>\n",
       "      <th>assembly</th>\n",
       "      <th>bangladesh</th>\n",
       "      <th>certificate</th>\n",
       "      <th>child</th>\n",
       "      <th>...</th>\n",
       "      <th>stamp</th>\n",
       "      <th>suicide</th>\n",
       "      <th>term</th>\n",
       "      <th>theft</th>\n",
       "      <th>unlawful</th>\n",
       "      <th>war</th>\n",
       "      <th>weapon</th>\n",
       "      <th>woman</th>\n",
       "      <th>wrongfully</th>\n",
       "      <th>years</th>\n",
       "    </tr>\n",
       "  </thead>\n",
       "  <tbody>\n",
       "    <tr>\n",
       "      <th>0</th>\n",
       "      <td>0</td>\n",
       "      <td>0</td>\n",
       "      <td>0</td>\n",
       "      <td>0</td>\n",
       "      <td>0</td>\n",
       "      <td>0</td>\n",
       "      <td>0</td>\n",
       "      <td>0</td>\n",
       "      <td>0</td>\n",
       "      <td>1</td>\n",
       "      <td>...</td>\n",
       "      <td>0</td>\n",
       "      <td>0</td>\n",
       "      <td>0</td>\n",
       "      <td>0</td>\n",
       "      <td>0</td>\n",
       "      <td>0</td>\n",
       "      <td>0</td>\n",
       "      <td>1</td>\n",
       "      <td>0</td>\n",
       "      <td>0</td>\n",
       "    </tr>\n",
       "    <tr>\n",
       "      <th>1</th>\n",
       "      <td>0</td>\n",
       "      <td>0</td>\n",
       "      <td>0</td>\n",
       "      <td>0</td>\n",
       "      <td>0</td>\n",
       "      <td>0</td>\n",
       "      <td>0</td>\n",
       "      <td>0</td>\n",
       "      <td>0</td>\n",
       "      <td>1</td>\n",
       "      <td>...</td>\n",
       "      <td>0</td>\n",
       "      <td>0</td>\n",
       "      <td>0</td>\n",
       "      <td>0</td>\n",
       "      <td>0</td>\n",
       "      <td>0</td>\n",
       "      <td>0</td>\n",
       "      <td>1</td>\n",
       "      <td>0</td>\n",
       "      <td>0</td>\n",
       "    </tr>\n",
       "    <tr>\n",
       "      <th>2</th>\n",
       "      <td>0</td>\n",
       "      <td>0</td>\n",
       "      <td>0</td>\n",
       "      <td>0</td>\n",
       "      <td>0</td>\n",
       "      <td>0</td>\n",
       "      <td>0</td>\n",
       "      <td>0</td>\n",
       "      <td>0</td>\n",
       "      <td>1</td>\n",
       "      <td>...</td>\n",
       "      <td>0</td>\n",
       "      <td>0</td>\n",
       "      <td>0</td>\n",
       "      <td>0</td>\n",
       "      <td>0</td>\n",
       "      <td>0</td>\n",
       "      <td>0</td>\n",
       "      <td>1</td>\n",
       "      <td>0</td>\n",
       "      <td>0</td>\n",
       "    </tr>\n",
       "    <tr>\n",
       "      <th>3</th>\n",
       "      <td>0</td>\n",
       "      <td>0</td>\n",
       "      <td>0</td>\n",
       "      <td>0</td>\n",
       "      <td>0</td>\n",
       "      <td>0</td>\n",
       "      <td>0</td>\n",
       "      <td>0</td>\n",
       "      <td>0</td>\n",
       "      <td>1</td>\n",
       "      <td>...</td>\n",
       "      <td>0</td>\n",
       "      <td>0</td>\n",
       "      <td>0</td>\n",
       "      <td>0</td>\n",
       "      <td>0</td>\n",
       "      <td>0</td>\n",
       "      <td>0</td>\n",
       "      <td>1</td>\n",
       "      <td>0</td>\n",
       "      <td>0</td>\n",
       "    </tr>\n",
       "    <tr>\n",
       "      <th>4</th>\n",
       "      <td>0</td>\n",
       "      <td>0</td>\n",
       "      <td>0</td>\n",
       "      <td>0</td>\n",
       "      <td>0</td>\n",
       "      <td>0</td>\n",
       "      <td>0</td>\n",
       "      <td>0</td>\n",
       "      <td>0</td>\n",
       "      <td>1</td>\n",
       "      <td>...</td>\n",
       "      <td>0</td>\n",
       "      <td>0</td>\n",
       "      <td>0</td>\n",
       "      <td>0</td>\n",
       "      <td>0</td>\n",
       "      <td>0</td>\n",
       "      <td>0</td>\n",
       "      <td>1</td>\n",
       "      <td>0</td>\n",
       "      <td>0</td>\n",
       "    </tr>\n",
       "    <tr>\n",
       "      <th>...</th>\n",
       "      <td>...</td>\n",
       "      <td>...</td>\n",
       "      <td>...</td>\n",
       "      <td>...</td>\n",
       "      <td>...</td>\n",
       "      <td>...</td>\n",
       "      <td>...</td>\n",
       "      <td>...</td>\n",
       "      <td>...</td>\n",
       "      <td>...</td>\n",
       "      <td>...</td>\n",
       "      <td>...</td>\n",
       "      <td>...</td>\n",
       "      <td>...</td>\n",
       "      <td>...</td>\n",
       "      <td>...</td>\n",
       "      <td>...</td>\n",
       "      <td>...</td>\n",
       "      <td>...</td>\n",
       "      <td>...</td>\n",
       "      <td>...</td>\n",
       "    </tr>\n",
       "    <tr>\n",
       "      <th>195</th>\n",
       "      <td>0</td>\n",
       "      <td>0</td>\n",
       "      <td>0</td>\n",
       "      <td>0</td>\n",
       "      <td>0</td>\n",
       "      <td>0</td>\n",
       "      <td>0</td>\n",
       "      <td>0</td>\n",
       "      <td>0</td>\n",
       "      <td>0</td>\n",
       "      <td>...</td>\n",
       "      <td>0</td>\n",
       "      <td>0</td>\n",
       "      <td>0</td>\n",
       "      <td>0</td>\n",
       "      <td>0</td>\n",
       "      <td>0</td>\n",
       "      <td>0</td>\n",
       "      <td>0</td>\n",
       "      <td>0</td>\n",
       "      <td>0</td>\n",
       "    </tr>\n",
       "    <tr>\n",
       "      <th>196</th>\n",
       "      <td>0</td>\n",
       "      <td>0</td>\n",
       "      <td>0</td>\n",
       "      <td>0</td>\n",
       "      <td>0</td>\n",
       "      <td>0</td>\n",
       "      <td>1</td>\n",
       "      <td>0</td>\n",
       "      <td>0</td>\n",
       "      <td>0</td>\n",
       "      <td>...</td>\n",
       "      <td>0</td>\n",
       "      <td>1</td>\n",
       "      <td>0</td>\n",
       "      <td>1</td>\n",
       "      <td>1</td>\n",
       "      <td>0</td>\n",
       "      <td>0</td>\n",
       "      <td>0</td>\n",
       "      <td>0</td>\n",
       "      <td>0</td>\n",
       "    </tr>\n",
       "    <tr>\n",
       "      <th>197</th>\n",
       "      <td>0</td>\n",
       "      <td>0</td>\n",
       "      <td>0</td>\n",
       "      <td>0</td>\n",
       "      <td>0</td>\n",
       "      <td>0</td>\n",
       "      <td>1</td>\n",
       "      <td>0</td>\n",
       "      <td>0</td>\n",
       "      <td>0</td>\n",
       "      <td>...</td>\n",
       "      <td>0</td>\n",
       "      <td>1</td>\n",
       "      <td>0</td>\n",
       "      <td>1</td>\n",
       "      <td>1</td>\n",
       "      <td>0</td>\n",
       "      <td>0</td>\n",
       "      <td>0</td>\n",
       "      <td>0</td>\n",
       "      <td>0</td>\n",
       "    </tr>\n",
       "    <tr>\n",
       "      <th>198</th>\n",
       "      <td>0</td>\n",
       "      <td>0</td>\n",
       "      <td>0</td>\n",
       "      <td>0</td>\n",
       "      <td>0</td>\n",
       "      <td>0</td>\n",
       "      <td>1</td>\n",
       "      <td>0</td>\n",
       "      <td>0</td>\n",
       "      <td>0</td>\n",
       "      <td>...</td>\n",
       "      <td>0</td>\n",
       "      <td>1</td>\n",
       "      <td>0</td>\n",
       "      <td>1</td>\n",
       "      <td>1</td>\n",
       "      <td>0</td>\n",
       "      <td>0</td>\n",
       "      <td>0</td>\n",
       "      <td>0</td>\n",
       "      <td>0</td>\n",
       "    </tr>\n",
       "    <tr>\n",
       "      <th>199</th>\n",
       "      <td>0</td>\n",
       "      <td>0</td>\n",
       "      <td>0</td>\n",
       "      <td>0</td>\n",
       "      <td>0</td>\n",
       "      <td>0</td>\n",
       "      <td>1</td>\n",
       "      <td>0</td>\n",
       "      <td>0</td>\n",
       "      <td>0</td>\n",
       "      <td>...</td>\n",
       "      <td>0</td>\n",
       "      <td>1</td>\n",
       "      <td>0</td>\n",
       "      <td>1</td>\n",
       "      <td>1</td>\n",
       "      <td>0</td>\n",
       "      <td>0</td>\n",
       "      <td>0</td>\n",
       "      <td>0</td>\n",
       "      <td>0</td>\n",
       "    </tr>\n",
       "  </tbody>\n",
       "</table>\n",
       "<p>200 rows × 69 columns</p>\n",
       "</div>"
      ],
      "text/plain": [
       "     abducts  abetment  air  armed  army  assault  assembly  bangladesh  \\\n",
       "0          0         0    0      0     0        0         0           0   \n",
       "1          0         0    0      0     0        0         0           0   \n",
       "2          0         0    0      0     0        0         0           0   \n",
       "3          0         0    0      0     0        0         0           0   \n",
       "4          0         0    0      0     0        0         0           0   \n",
       "..       ...       ...  ...    ...   ...      ...       ...         ...   \n",
       "195        0         0    0      0     0        0         0           0   \n",
       "196        0         0    0      0     0        0         1           0   \n",
       "197        0         0    0      0     0        0         1           0   \n",
       "198        0         0    0      0     0        0         1           0   \n",
       "199        0         0    0      0     0        0         1           0   \n",
       "\n",
       "     certificate  child  ...  stamp  suicide  term  theft  unlawful  war  \\\n",
       "0              0      1  ...      0        0     0      0         0    0   \n",
       "1              0      1  ...      0        0     0      0         0    0   \n",
       "2              0      1  ...      0        0     0      0         0    0   \n",
       "3              0      1  ...      0        0     0      0         0    0   \n",
       "4              0      1  ...      0        0     0      0         0    0   \n",
       "..           ...    ...  ...    ...      ...   ...    ...       ...  ...   \n",
       "195            0      0  ...      0        0     0      0         0    0   \n",
       "196            0      0  ...      0        1     0      1         1    0   \n",
       "197            0      0  ...      0        1     0      1         1    0   \n",
       "198            0      0  ...      0        1     0      1         1    0   \n",
       "199            0      0  ...      0        1     0      1         1    0   \n",
       "\n",
       "     weapon  woman  wrongfully  years  \n",
       "0         0      1           0      0  \n",
       "1         0      1           0      0  \n",
       "2         0      1           0      0  \n",
       "3         0      1           0      0  \n",
       "4         0      1           0      0  \n",
       "..      ...    ...         ...    ...  \n",
       "195       0      0           0      0  \n",
       "196       0      0           0      0  \n",
       "197       0      0           0      0  \n",
       "198       0      0           0      0  \n",
       "199       0      0           0      0  \n",
       "\n",
       "[200 rows x 69 columns]"
      ]
     },
     "execution_count": 14,
     "metadata": {},
     "output_type": "execute_result"
    }
   ],
   "source": [
    "new_col = pd.DataFrame(y, columns = mlb.classes_)\n",
    "new_col"
   ]
  },
  {
   "cell_type": "code",
   "execution_count": null,
   "id": "dde3780c",
   "metadata": {},
   "outputs": [],
   "source": []
  },
  {
   "cell_type": "code",
   "execution_count": null,
   "id": "763728dd",
   "metadata": {},
   "outputs": [],
   "source": []
  },
  {
   "cell_type": "code",
   "execution_count": 15,
   "id": "502b89ce",
   "metadata": {},
   "outputs": [
    {
     "data": {
      "text/plain": [
       "<200x7431 sparse matrix of type '<class 'numpy.float64'>'\n",
       "\twith 15281 stored elements in Compressed Sparse Row format>"
      ]
     },
     "execution_count": 15,
     "metadata": {},
     "output_type": "execute_result"
    }
   ],
   "source": [
    "tfidf = TfidfVectorizer(analyzer='word', max_features=10000, ngram_range=(1,3), stop_words='english')\n",
    "X = tfidf.fit_transform(data['Content'])\n",
    "X"
   ]
  },
  {
   "cell_type": "code",
   "execution_count": 16,
   "id": "43714e4b",
   "metadata": {},
   "outputs": [
    {
     "data": {
      "text/plain": [
       "((200, 7431), (200, 69))"
      ]
     },
     "execution_count": 16,
     "metadata": {},
     "output_type": "execute_result"
    }
   ],
   "source": [
    "X.shape, y.shape"
   ]
  },
  {
   "cell_type": "code",
   "execution_count": 17,
   "id": "7c6c20cb",
   "metadata": {},
   "outputs": [],
   "source": [
    "X_train, X_test, y_train, y_test = train_test_split(X, y, test_size = 0.2, random_state = 0)"
   ]
  },
  {
   "cell_type": "markdown",
   "id": "c1caff7d",
   "metadata": {},
   "source": [
    "# Model"
   ]
  },
  {
   "cell_type": "code",
   "execution_count": 18,
   "id": "cebcafd0",
   "metadata": {},
   "outputs": [],
   "source": [
    "sgd = SGDClassifier()\n",
    "lr = LogisticRegression(solver='lbfgs')\n",
    "svc = LinearSVC()"
   ]
  },
  {
   "cell_type": "code",
   "execution_count": 19,
   "id": "28655120",
   "metadata": {},
   "outputs": [],
   "source": [
    "def j_score(y_true, y_pred):\n",
    "  jaccard = np.minimum(y_true, y_pred).sum(axis = 1)/np.maximum(y_true, y_pred).sum(axis = 1)\n",
    "  return jaccard.mean()*100\n",
    "\n",
    "\n",
    "def print_score(y_pred, clf):\n",
    "  print(\"Clf: \", clf.__class__.__name__)\n",
    "  print('Jacard score: {}'.format(j_score(y_test, y_pred)))\n",
    "  print('----')"
   ]
  },
  {
   "cell_type": "code",
   "execution_count": 21,
   "id": "d3fb7ae5",
   "metadata": {},
   "outputs": [
    {
     "name": "stdout",
     "output_type": "stream",
     "text": [
      "Clf:  LinearSVC\n",
      "Jacard score: 48.93567251461988\n",
      "----\n"
     ]
    }
   ],
   "source": [
    "for classifier in [LinearSVC(C=1.5, penalty = 'l1', dual=False)]:\n",
    "  clf = OneVsRestClassifier(classifier)\n",
    "  clf.fit(X_train, y_train)\n",
    "  y_pred = clf.predict(X_test)\n",
    "  print_score(y_pred, classifier)"
   ]
  },
  {
   "cell_type": "code",
   "execution_count": null,
   "id": "63528ad3",
   "metadata": {},
   "outputs": [],
   "source": []
  },
  {
   "cell_type": "code",
   "execution_count": 23,
   "id": "715fcf09",
   "metadata": {},
   "outputs": [
    {
     "name": "stdout",
     "output_type": "stream",
     "text": [
      "Clf:  SGDClassifier\n",
      "Jacard score: 48.663865546218496\n",
      "----\n",
      "Clf:  LogisticRegression\n",
      "Jacard score: 7.75\n",
      "----\n",
      "Clf:  LinearSVC\n",
      "Jacard score: 41.33158508158509\n",
      "----\n"
     ]
    }
   ],
   "source": [
    "for classifier in [sgd, lr, svc]:\n",
    "  clf = OneVsRestClassifier(classifier)\n",
    "  clf.fit(X_train, y_train)\n",
    "  y_pred = clf.predict(X_test)\n",
    "  print_score(y_pred, classifier)\n"
   ]
  },
  {
   "cell_type": "markdown",
   "id": "cb466503",
   "metadata": {},
   "source": [
    "## More Model"
   ]
  },
  {
   "cell_type": "code",
   "execution_count": 67,
   "id": "71e48726",
   "metadata": {},
   "outputs": [
    {
     "name": "stdout",
     "output_type": "stream",
     "text": [
      "Collecting scikit-multilearn\n",
      "  Downloading scikit_multilearn-0.2.0-py3-none-any.whl (89 kB)\n",
      "Installing collected packages: scikit-multilearn\n",
      "Successfully installed scikit-multilearn-0.2.0\n",
      "Note: you may need to restart the kernel to use updated packages.\n"
     ]
    }
   ],
   "source": [
    "pip install scikit-multilearn"
   ]
  },
  {
   "cell_type": "code",
   "execution_count": 73,
   "id": "0bab2e76",
   "metadata": {},
   "outputs": [],
   "source": [
    "from sklearn.metrics import accuracy_score"
   ]
  },
  {
   "cell_type": "code",
   "execution_count": 75,
   "id": "d08adb93",
   "metadata": {},
   "outputs": [
    {
     "data": {
      "text/plain": [
       "0.45"
      ]
     },
     "execution_count": 75,
     "metadata": {},
     "output_type": "execute_result"
    }
   ],
   "source": [
    "# using binary relevance\n",
    "from skmultilearn.problem_transform import BinaryRelevance\n",
    "from sklearn.naive_bayes import GaussianNB\n",
    "\n",
    "# initialize binary relevance multi-label classifier\n",
    "# with a gaussian naive bayes base classifier\n",
    "classifier = BinaryRelevance(GaussianNB())\n",
    "\n",
    "# train\n",
    "classifier.fit(X_train, y_train)\n",
    "\n",
    "# predict\n",
    "predictions = classifier.predict(X_test)\n",
    "\n",
    "# accuracy check\n",
    "accuracy_score(y_test,predictions)"
   ]
  },
  {
   "cell_type": "code",
   "execution_count": 76,
   "id": "280d74c1",
   "metadata": {},
   "outputs": [
    {
     "data": {
      "text/plain": [
       "0.475"
      ]
     },
     "execution_count": 76,
     "metadata": {},
     "output_type": "execute_result"
    }
   ],
   "source": [
    "# using classifier chains\n",
    "from skmultilearn.problem_transform import ClassifierChain\n",
    "from sklearn.naive_bayes import GaussianNB\n",
    "\n",
    "# initialize classifier chains multi-label classifier\n",
    "# with a gaussian naive bayes base classifier\n",
    "classifier = ClassifierChain(GaussianNB())\n",
    "\n",
    "# train\n",
    "classifier.fit(X_train, y_train)\n",
    "\n",
    "# predict\n",
    "predictions = classifier.predict(X_test)\n",
    "\n",
    "accuracy_score(y_test,predictions)"
   ]
  },
  {
   "cell_type": "code",
   "execution_count": 88,
   "id": "868178c4",
   "metadata": {},
   "outputs": [
    {
     "data": {
      "text/plain": [
       "0.525"
      ]
     },
     "execution_count": 88,
     "metadata": {},
     "output_type": "execute_result"
    }
   ],
   "source": [
    "# using Label Powerset\n",
    "from skmultilearn.problem_transform import LabelPowerset\n",
    "from sklearn.naive_bayes import GaussianNB\n",
    "\n",
    "# initialize Label Powerset multi-label classifier\n",
    "# with a gaussian naive bayes base classifier\n",
    "classifier_pow = LabelPowerset(GaussianNB())\n",
    "\n",
    "# train\n",
    "classifier_pow.fit(X_train, y_train)\n",
    "\n",
    "# predict\n",
    "predictions = classifier_pow.predict(X_test)\n",
    "\n",
    "accuracy_score(y_test,predictions)"
   ]
  },
  {
   "cell_type": "code",
   "execution_count": 81,
   "id": "aad58bee",
   "metadata": {},
   "outputs": [
    {
     "name": "stderr",
     "output_type": "stream",
     "text": [
      "C:\\Users\\DK23\\anaconda3\\lib\\site-packages\\sklearn\\utils\\validation.py:70: FutureWarning: Pass n_neighbors=20 as keyword args. From version 1.0 (renaming of 0.25) passing these as positional arguments will result in an error\n",
      "  warnings.warn(f\"Pass {args_msg} as keyword args. From version \"\n"
     ]
    },
    {
     "data": {
      "text/plain": [
       "0.175"
      ]
     },
     "execution_count": 81,
     "metadata": {},
     "output_type": "execute_result"
    }
   ],
   "source": [
    "from skmultilearn.adapt import MLkNN\n",
    "\n",
    "classifier = MLkNN(k=20)\n",
    "\n",
    "# train\n",
    "classifier.fit(X_train, y_train)\n",
    "\n",
    "# predict\n",
    "predictions = classifier.predict(X_test)\n",
    "\n",
    "accuracy_score(y_test,predictions)"
   ]
  },
  {
   "cell_type": "code",
   "execution_count": null,
   "id": "934d811d",
   "metadata": {},
   "outputs": [],
   "source": []
  },
  {
   "cell_type": "code",
   "execution_count": null,
   "id": "065c3507",
   "metadata": {},
   "outputs": [],
   "source": []
  },
  {
   "cell_type": "code",
   "execution_count": null,
   "id": "ea99f93a",
   "metadata": {},
   "outputs": [],
   "source": []
  },
  {
   "cell_type": "code",
   "execution_count": null,
   "id": "53d1e7f4",
   "metadata": {},
   "outputs": [],
   "source": []
  },
  {
   "cell_type": "code",
   "execution_count": 78,
   "id": "34e33bcd",
   "metadata": {},
   "outputs": [
    {
     "data": {
      "text/plain": [
       "0.475"
      ]
     },
     "execution_count": 78,
     "metadata": {},
     "output_type": "execute_result"
    }
   ],
   "source": [
    "# From another sources\n",
    "from sklearn.neighbors import KNeighborsClassifier\n",
    "from sklearn.multiclass import OneVsRestClassifier\n",
    "\n",
    "knnClf = KNeighborsClassifier()\n",
    "\n",
    "knnClf.fit(X_train, y_train)\n",
    "knnPredictions = knnClf.predict(X_test)\n",
    "accuracy_score(y_test,knnPredictions)"
   ]
  },
  {
   "cell_type": "code",
   "execution_count": 79,
   "id": "5e1ab3b2",
   "metadata": {},
   "outputs": [
    {
     "data": {
      "text/plain": [
       "0.3"
      ]
     },
     "execution_count": 79,
     "metadata": {},
     "output_type": "execute_result"
    }
   ],
   "source": [
    "from sklearn.ensemble import BaggingClassifier\n",
    "\n",
    "bagClassifier = OneVsRestClassifier(BaggingClassifier(n_jobs=-1))\n",
    "bagClassifier.fit(X_train, y_train)\n",
    "bagPreds = bagClassifier.predict(X_test)\n",
    "accuracy_score(y_test,bagPreds)"
   ]
  },
  {
   "cell_type": "code",
   "execution_count": 85,
   "id": "6a3af327",
   "metadata": {},
   "outputs": [
    {
     "data": {
      "text/plain": [
       "0.275"
      ]
     },
     "execution_count": 85,
     "metadata": {},
     "output_type": "execute_result"
    }
   ],
   "source": [
    "from sklearn.ensemble import RandomForestClassifier\n",
    "\n",
    "rfClassifier = RandomForestClassifier(n_jobs=-1)\n",
    "rfClassifier.fit(X_train, y_train)\n",
    "rfPreds = rfClassifier.predict(X_test)\n",
    "accuracy_score(y_test,rfPreds)"
   ]
  },
  {
   "cell_type": "code",
   "execution_count": 87,
   "id": "0e2dc85a",
   "metadata": {},
   "outputs": [
    {
     "data": {
      "text/plain": [
       "0.275"
      ]
     },
     "execution_count": 87,
     "metadata": {},
     "output_type": "execute_result"
    }
   ],
   "source": [
    "from sklearn.ensemble import BaggingClassifier\n",
    "\n",
    "bagClassifier = OneVsRestClassifier(BaggingClassifier(n_jobs=-1))\n",
    "bagClassifier.fit(X_train, y_train)\n",
    "bagPreds = bagClassifier.predict(X_test)\n",
    "accuracy_score(y_test,bagPreds)"
   ]
  },
  {
   "cell_type": "code",
   "execution_count": null,
   "id": "1be2f092",
   "metadata": {},
   "outputs": [],
   "source": []
  },
  {
   "cell_type": "code",
   "execution_count": null,
   "id": "6eb24d04",
   "metadata": {},
   "outputs": [],
   "source": []
  },
  {
   "cell_type": "code",
   "execution_count": null,
   "id": "04b45692",
   "metadata": {},
   "outputs": [],
   "source": []
  },
  {
   "cell_type": "markdown",
   "id": "c28a4c57",
   "metadata": {},
   "source": [
    "# Model Test"
   ]
  },
  {
   "cell_type": "code",
   "execution_count": 24,
   "id": "287c218d",
   "metadata": {},
   "outputs": [],
   "source": [
    "test = ['woman husband husband father mother guardian relative behalf husband kills tries kill woman dowry causes grievous hurt simple injury woman said husband husband father mother guardian relative punishable death attempting cause death life imprisonment attempting cause death cases punishable additional fine said penalty b causing grievous hurt punishable life imprisonment not twelve years not less five years rigorous imprisonment addition fine c causing simple injury punishable imprisonment term not exceeding three years not less one year also punishable additional fine said penalty']"
   ]
  },
  {
   "cell_type": "code",
   "execution_count": 25,
   "id": "acfb1758",
   "metadata": {
    "scrolled": true
   },
   "outputs": [
    {
     "data": {
      "text/plain": [
       "<1x7431 sparse matrix of type '<class 'numpy.float64'>'\n",
       "\twith 147 stored elements in Compressed Sparse Row format>"
      ]
     },
     "execution_count": 25,
     "metadata": {},
     "output_type": "execute_result"
    }
   ],
   "source": [
    "xt = tfidf.transform(test)\n",
    "xt"
   ]
  },
  {
   "cell_type": "code",
   "execution_count": 27,
   "id": "a352e965",
   "metadata": {},
   "outputs": [
    {
     "data": {
      "text/plain": [
       "array([[0, 0, 0, 0, 0, 0, 0, 0, 0, 1, 0, 0, 0, 0, 0, 0, 0, 0, 0, 1, 0, 0,\n",
       "        0, 0, 0, 0, 0, 1, 0, 1, 1, 0, 0, 0, 0, 0, 0, 0, 0, 1, 0, 0, 0, 0,\n",
       "        0, 0, 0, 0, 0, 0, 0, 1, 1, 0, 0, 0, 1, 0, 0, 0, 0, 0, 0, 0, 0, 0,\n",
       "        1, 0, 0]])"
      ]
     },
     "execution_count": 27,
     "metadata": {},
     "output_type": "execute_result"
    }
   ],
   "source": [
    "clf.predict(xt)\n",
    "#classifier_pow.predict(xt)"
   ]
  },
  {
   "cell_type": "code",
   "execution_count": 28,
   "id": "0f455bd7",
   "metadata": {},
   "outputs": [
    {
     "data": {
      "text/plain": [
       "[('child',\n",
       "  'death',\n",
       "  'grievous',\n",
       "  'hurt',\n",
       "  'imprisonment',\n",
       "  'life',\n",
       "  'punishable',\n",
       "  'punished',\n",
       "  'section',\n",
       "  'woman')]"
      ]
     },
     "execution_count": 28,
     "metadata": {},
     "output_type": "execute_result"
    }
   ],
   "source": [
    "#mlb.inverse_transform(classifier_pow.predict(xt))\n",
    "mlb.inverse_transform(clf.predict(xt))"
   ]
  },
  {
   "cell_type": "code",
   "execution_count": null,
   "id": "7d99e84c",
   "metadata": {},
   "outputs": [],
   "source": []
  },
  {
   "cell_type": "code",
   "execution_count": null,
   "id": "c0988fde",
   "metadata": {},
   "outputs": [],
   "source": []
  }
 ],
 "metadata": {
  "kernelspec": {
   "display_name": "Python 3 (ipykernel)",
   "language": "python",
   "name": "python3"
  },
  "language_info": {
   "codemirror_mode": {
    "name": "ipython",
    "version": 3
   },
   "file_extension": ".py",
   "mimetype": "text/x-python",
   "name": "python",
   "nbconvert_exporter": "python",
   "pygments_lexer": "ipython3",
   "version": "3.9.7"
  }
 },
 "nbformat": 4,
 "nbformat_minor": 5
}
