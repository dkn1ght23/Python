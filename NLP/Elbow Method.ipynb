{
 "cells": [
  {
   "cell_type": "markdown",
   "id": "7ad8b15d",
   "metadata": {},
   "source": [
    "# Determining the number of clusters in a data set"
   ]
  },
  {
   "cell_type": "code",
   "execution_count": 1,
   "id": "bd191ea6",
   "metadata": {},
   "outputs": [
    {
     "name": "stderr",
     "output_type": "stream",
     "text": [
      "[nltk_data] Downloading package punkt to\n",
      "[nltk_data]     C:\\Users\\DK23\\AppData\\Roaming\\nltk_data...\n",
      "[nltk_data]   Package punkt is already up-to-date!\n"
     ]
    }
   ],
   "source": [
    "import pandas as pd\n",
    "import numpy as np\n",
    "\n",
    "import re\n",
    "import nltk\n",
    "nltk.download('punkt')\n",
    "import string\n",
    "from nltk.tokenize import word_tokenize\n",
    "from nltk.corpus import stopwords\n",
    "from nltk.stem.porter import PorterStemmer"
   ]
  },
  {
   "cell_type": "markdown",
   "id": "0f39f7ab",
   "metadata": {},
   "source": [
    "## Load DataSet"
   ]
  },
  {
   "cell_type": "code",
   "execution_count": 4,
   "id": "67cd6727",
   "metadata": {},
   "outputs": [
    {
     "data": {
      "text/html": [
       "<div>\n",
       "<style scoped>\n",
       "    .dataframe tbody tr th:only-of-type {\n",
       "        vertical-align: middle;\n",
       "    }\n",
       "\n",
       "    .dataframe tbody tr th {\n",
       "        vertical-align: top;\n",
       "    }\n",
       "\n",
       "    .dataframe thead th {\n",
       "        text-align: right;\n",
       "    }\n",
       "</style>\n",
       "<table border=\"1\" class=\"dataframe\">\n",
       "  <thead>\n",
       "    <tr style=\"text-align: right;\">\n",
       "      <th></th>\n",
       "      <th>Title</th>\n",
       "      <th>Content</th>\n",
       "    </tr>\n",
       "  </thead>\n",
       "  <tbody>\n",
       "    <tr>\n",
       "      <th>0</th>\n",
       "      <td>punishment crimes committed substance susch co...</td>\n",
       "      <td>person kills attempts cause death child woman ...</td>\n",
       "    </tr>\n",
       "    <tr>\n",
       "      <th>1</th>\n",
       "      <td>punishment abduction wimen children</td>\n",
       "      <td>person human trafficking prevention suppressio...</td>\n",
       "    </tr>\n",
       "    <tr>\n",
       "      <th>2</th>\n",
       "      <td>punishment ransom</td>\n",
       "      <td>person detains woman child ransom person shall...</td>\n",
       "    </tr>\n",
       "    <tr>\n",
       "      <th>3</th>\n",
       "      <td>punishment rapem death due rape</td>\n",
       "      <td>man rapes woman child shall punishable death p...</td>\n",
       "    </tr>\n",
       "    <tr>\n",
       "      <th>4</th>\n",
       "      <td>punishment inciting women commit suicide</td>\n",
       "      <td>woman commits suicide without consent woman pe...</td>\n",
       "    </tr>\n",
       "  </tbody>\n",
       "</table>\n",
       "</div>"
      ],
      "text/plain": [
       "                                               Title  \\\n",
       "0  punishment crimes committed substance susch co...   \n",
       "1                punishment abduction wimen children   \n",
       "2                                  punishment ransom   \n",
       "3                    punishment rapem death due rape   \n",
       "4           punishment inciting women commit suicide   \n",
       "\n",
       "                                             Content  \n",
       "0  person kills attempts cause death child woman ...  \n",
       "1  person human trafficking prevention suppressio...  \n",
       "2  person detains woman child ransom person shall...  \n",
       "3  man rapes woman child shall punishable death p...  \n",
       "4  woman commits suicide without consent woman pe...  "
      ]
     },
     "execution_count": 4,
     "metadata": {},
     "output_type": "execute_result"
    }
   ],
   "source": [
    "data = pd.read_csv('E:\\Final_Data.csv', index_col=0)\n",
    "data.head()\n",
    "#data.info()"
   ]
  },
  {
   "cell_type": "markdown",
   "id": "23b60a79",
   "metadata": {},
   "source": [
    "## TF-IDF\n",
    "#### Word 2 Vec can be used instead of tf-idf  "
   ]
  },
  {
   "cell_type": "code",
   "execution_count": 6,
   "id": "d0f5808c",
   "metadata": {},
   "outputs": [
    {
     "data": {
      "text/plain": [
       "<200x1097 sparse matrix of type '<class 'numpy.float64'>'\n",
       "\twith 4960 stored elements in Compressed Sparse Row format>"
      ]
     },
     "execution_count": 6,
     "metadata": {},
     "output_type": "execute_result"
    }
   ],
   "source": [
    "from sklearn.feature_extraction.text import TfidfVectorizer\n",
    "#unicode\n",
    "documents = data['Content'].values.astype(\"U\")\n",
    "\n",
    "vectorizer = TfidfVectorizer(stop_words='english')\n",
    "features = vectorizer.fit_transform(documents)\n",
    "features"
   ]
  },
  {
   "cell_type": "markdown",
   "id": "abe84a2e",
   "metadata": {},
   "source": [
    "## Elbow Method"
   ]
  },
  {
   "cell_type": "code",
   "execution_count": 7,
   "id": "2bad2f4c",
   "metadata": {},
   "outputs": [],
   "source": [
    "from sklearn.cluster import KMeans\n",
    "\n",
    "Sum_of_squared_distances = []\n",
    "K = range(1,20)\n",
    "for k in K:\n",
    "    km = KMeans(n_clusters=k)\n",
    "    km = km.fit(features)\n",
    "    Sum_of_squared_distances.append(km.inertia_)"
   ]
  },
  {
   "cell_type": "markdown",
   "id": "91ea69ab",
   "metadata": {},
   "source": [
    "## Ploting the figure"
   ]
  },
  {
   "cell_type": "code",
   "execution_count": 8,
   "id": "5c2ceccc",
   "metadata": {},
   "outputs": [
    {
     "data": {
      "image/png": "[encoded data removed]",
      "text/plain": [
       "<Figure size 432x288 with 1 Axes>"
      ]
     },
     "metadata": {
      "needs_background": "light"
     },
     "output_type": "display_data"
    }
   ],
   "source": [
    "import matplotlib.pyplot as plt\n",
    "\n",
    "plt.plot(K, Sum_of_squared_distances, marker='o')\n",
    "plt.xlabel('k')\n",
    "plt.ylabel('Sum_of_squared_distances')\n",
    "plt.title('Elbow Method For Optimal k')\n",
    "plt.show()"
   ]
  },
  {
   "cell_type": "code",
   "execution_count": null,
   "id": "789c31f8",
   "metadata": {},
   "outputs": [],
   "source": []
  }
 ],
 "metadata": {
  "kernelspec": {
   "display_name": "Python 3 (ipykernel)",
   "language": "python",
   "name": "python3"
  },
  "language_info": {
   "codemirror_mode": {
    "name": "ipython",
    "version": 3
   },
   "file_extension": ".py",
   "mimetype": "text/x-python",
   "name": "python",
   "nbconvert_exporter": "python",
   "pygments_lexer": "ipython3",
   "version": "3.9.7"
  }
 },
 "nbformat": 4,
 "nbformat_minor": 5
}
